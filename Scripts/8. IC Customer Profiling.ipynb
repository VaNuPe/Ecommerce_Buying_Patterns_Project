{
 "cells": [
  {
   "cell_type": "markdown",
   "id": "13da0552",
   "metadata": {},
   "source": [
    "## Importing Libraries and Data Set"
   ]
  },
  {
   "cell_type": "code",
   "execution_count": 1,
   "id": "af2c57dd",
   "metadata": {},
   "outputs": [],
   "source": [
    "import pandas as pd\n",
    "import numpy as np\n",
    "import os\n",
    "import matplotlib.pyplot as plt\n",
    "import seaborn as sns\n",
    "import scipy"
   ]
  },
  {
   "cell_type": "code",
   "execution_count": 2,
   "id": "c2bc867d",
   "metadata": {},
   "outputs": [
    {
     "data": {
      "text/plain": [
       "'/Users/vanessanunezpenas/Documents/Data Analytics Program - CareerFoundry/II Data Immersion 1 - Preparing and Analyzing Data/A4 - Python Fundamentals/2024.01 Instacart Basket Analysis'"
      ]
     },
     "execution_count": 2,
     "metadata": {},
     "output_type": "execute_result"
    }
   ],
   "source": [
    "path = r'/Users/vanessanunezpenas/Documents/Data Analytics Program - CareerFoundry/II Data Immersion 1 - Preparing and Analyzing Data/A4 - Python Fundamentals/2024.01 Instacart Basket Analysis'\n",
    "path"
   ]
  },
  {
   "cell_type": "code",
   "execution_count": 3,
   "id": "50daeb8e",
   "metadata": {},
   "outputs": [],
   "source": [
    "orders_products_all = pd.read_pickle(os.path.join(path, '02 Data', 'Prepared Data', 'orders_products_all.pkl'))"
   ]
  },
  {
   "cell_type": "code",
   "execution_count": 4,
   "id": "46ffb5b0",
   "metadata": {},
   "outputs": [
    {
     "data": {
      "text/html": [
       "<div>\n",
       "<style scoped>\n",
       "    .dataframe tbody tr th:only-of-type {\n",
       "        vertical-align: middle;\n",
       "    }\n",
       "\n",
       "    .dataframe tbody tr th {\n",
       "        vertical-align: top;\n",
       "    }\n",
       "\n",
       "    .dataframe thead th {\n",
       "        text-align: right;\n",
       "    }\n",
       "</style>\n",
       "<table border=\"1\" class=\"dataframe\">\n",
       "  <thead>\n",
       "    <tr style=\"text-align: right;\">\n",
       "      <th></th>\n",
       "      <th>order_id</th>\n",
       "      <th>user_id</th>\n",
       "      <th>order_number</th>\n",
       "      <th>orders_day_of_week</th>\n",
       "      <th>order_hour_of_day</th>\n",
       "      <th>days_since_prior_order</th>\n",
       "      <th>product_id</th>\n",
       "      <th>add_to_cart_order</th>\n",
       "      <th>reordered</th>\n",
       "      <th>product_name</th>\n",
       "      <th>...</th>\n",
       "      <th>First Name</th>\n",
       "      <th>Surname</th>\n",
       "      <th>Gender</th>\n",
       "      <th>State</th>\n",
       "      <th>Age</th>\n",
       "      <th>date_joined</th>\n",
       "      <th>n_dependants</th>\n",
       "      <th>familial_status</th>\n",
       "      <th>income</th>\n",
       "      <th>_merge</th>\n",
       "    </tr>\n",
       "  </thead>\n",
       "  <tbody>\n",
       "    <tr>\n",
       "      <th>0</th>\n",
       "      <td>2539329</td>\n",
       "      <td>1</td>\n",
       "      <td>1</td>\n",
       "      <td>2</td>\n",
       "      <td>8</td>\n",
       "      <td>NaN</td>\n",
       "      <td>196</td>\n",
       "      <td>1</td>\n",
       "      <td>0</td>\n",
       "      <td>Soda</td>\n",
       "      <td>...</td>\n",
       "      <td>Linda</td>\n",
       "      <td>Nguyen</td>\n",
       "      <td>Female</td>\n",
       "      <td>Alabama</td>\n",
       "      <td>31</td>\n",
       "      <td>2/17/2019</td>\n",
       "      <td>3</td>\n",
       "      <td>married</td>\n",
       "      <td>40423</td>\n",
       "      <td>both</td>\n",
       "    </tr>\n",
       "    <tr>\n",
       "      <th>1</th>\n",
       "      <td>2398795</td>\n",
       "      <td>1</td>\n",
       "      <td>2</td>\n",
       "      <td>3</td>\n",
       "      <td>7</td>\n",
       "      <td>15.0</td>\n",
       "      <td>196</td>\n",
       "      <td>1</td>\n",
       "      <td>1</td>\n",
       "      <td>Soda</td>\n",
       "      <td>...</td>\n",
       "      <td>Linda</td>\n",
       "      <td>Nguyen</td>\n",
       "      <td>Female</td>\n",
       "      <td>Alabama</td>\n",
       "      <td>31</td>\n",
       "      <td>2/17/2019</td>\n",
       "      <td>3</td>\n",
       "      <td>married</td>\n",
       "      <td>40423</td>\n",
       "      <td>both</td>\n",
       "    </tr>\n",
       "    <tr>\n",
       "      <th>2</th>\n",
       "      <td>473747</td>\n",
       "      <td>1</td>\n",
       "      <td>3</td>\n",
       "      <td>3</td>\n",
       "      <td>12</td>\n",
       "      <td>21.0</td>\n",
       "      <td>196</td>\n",
       "      <td>1</td>\n",
       "      <td>1</td>\n",
       "      <td>Soda</td>\n",
       "      <td>...</td>\n",
       "      <td>Linda</td>\n",
       "      <td>Nguyen</td>\n",
       "      <td>Female</td>\n",
       "      <td>Alabama</td>\n",
       "      <td>31</td>\n",
       "      <td>2/17/2019</td>\n",
       "      <td>3</td>\n",
       "      <td>married</td>\n",
       "      <td>40423</td>\n",
       "      <td>both</td>\n",
       "    </tr>\n",
       "    <tr>\n",
       "      <th>3</th>\n",
       "      <td>2254736</td>\n",
       "      <td>1</td>\n",
       "      <td>4</td>\n",
       "      <td>4</td>\n",
       "      <td>7</td>\n",
       "      <td>29.0</td>\n",
       "      <td>196</td>\n",
       "      <td>1</td>\n",
       "      <td>1</td>\n",
       "      <td>Soda</td>\n",
       "      <td>...</td>\n",
       "      <td>Linda</td>\n",
       "      <td>Nguyen</td>\n",
       "      <td>Female</td>\n",
       "      <td>Alabama</td>\n",
       "      <td>31</td>\n",
       "      <td>2/17/2019</td>\n",
       "      <td>3</td>\n",
       "      <td>married</td>\n",
       "      <td>40423</td>\n",
       "      <td>both</td>\n",
       "    </tr>\n",
       "    <tr>\n",
       "      <th>4</th>\n",
       "      <td>431534</td>\n",
       "      <td>1</td>\n",
       "      <td>5</td>\n",
       "      <td>4</td>\n",
       "      <td>15</td>\n",
       "      <td>28.0</td>\n",
       "      <td>196</td>\n",
       "      <td>1</td>\n",
       "      <td>1</td>\n",
       "      <td>Soda</td>\n",
       "      <td>...</td>\n",
       "      <td>Linda</td>\n",
       "      <td>Nguyen</td>\n",
       "      <td>Female</td>\n",
       "      <td>Alabama</td>\n",
       "      <td>31</td>\n",
       "      <td>2/17/2019</td>\n",
       "      <td>3</td>\n",
       "      <td>married</td>\n",
       "      <td>40423</td>\n",
       "      <td>both</td>\n",
       "    </tr>\n",
       "  </tbody>\n",
       "</table>\n",
       "<p>5 rows × 30 columns</p>\n",
       "</div>"
      ],
      "text/plain": [
       "   order_id user_id  order_number  orders_day_of_week  order_hour_of_day  \\\n",
       "0   2539329       1             1                   2                  8   \n",
       "1   2398795       1             2                   3                  7   \n",
       "2    473747       1             3                   3                 12   \n",
       "3   2254736       1             4                   4                  7   \n",
       "4    431534       1             5                   4                 15   \n",
       "\n",
       "   days_since_prior_order  product_id  add_to_cart_order  reordered  \\\n",
       "0                     NaN         196                  1          0   \n",
       "1                    15.0         196                  1          1   \n",
       "2                    21.0         196                  1          1   \n",
       "3                    29.0         196                  1          1   \n",
       "4                    28.0         196                  1          1   \n",
       "\n",
       "  product_name  ...  First Name  Surname  Gender    State Age date_joined  \\\n",
       "0         Soda  ...       Linda   Nguyen  Female  Alabama  31   2/17/2019   \n",
       "1         Soda  ...       Linda   Nguyen  Female  Alabama  31   2/17/2019   \n",
       "2         Soda  ...       Linda   Nguyen  Female  Alabama  31   2/17/2019   \n",
       "3         Soda  ...       Linda   Nguyen  Female  Alabama  31   2/17/2019   \n",
       "4         Soda  ...       Linda   Nguyen  Female  Alabama  31   2/17/2019   \n",
       "\n",
       "  n_dependants familial_status income _merge  \n",
       "0            3         married  40423   both  \n",
       "1            3         married  40423   both  \n",
       "2            3         married  40423   both  \n",
       "3            3         married  40423   both  \n",
       "4            3         married  40423   both  \n",
       "\n",
       "[5 rows x 30 columns]"
      ]
     },
     "execution_count": 4,
     "metadata": {},
     "output_type": "execute_result"
    }
   ],
   "source": [
    "orders_products_all.head()"
   ]
  },
  {
   "cell_type": "markdown",
   "id": "218dfffb",
   "metadata": {},
   "source": [
    "## Security implications"
   ]
  },
  {
   "cell_type": "markdown",
   "id": "bdff459f",
   "metadata": {},
   "source": [
    "This new data contains personal identifiable information (PII): first name and surnanme of every Instacart's customer. We have the user_id for analytical purpose, although a good practice here would be to create a new dataframe with this data and to drop the columns with PII in the orders_products_all dataframe."
   ]
  },
  {
   "cell_type": "code",
   "execution_count": 5,
   "id": "19b20931",
   "metadata": {},
   "outputs": [],
   "source": [
    "customers_pii = orders_products_all[['user_id', 'First Name', 'Surname']].copy()"
   ]
  },
  {
   "cell_type": "code",
   "execution_count": 6,
   "id": "a7157d0a",
   "metadata": {},
   "outputs": [
    {
     "data": {
      "text/html": [
       "<div>\n",
       "<style scoped>\n",
       "    .dataframe tbody tr th:only-of-type {\n",
       "        vertical-align: middle;\n",
       "    }\n",
       "\n",
       "    .dataframe tbody tr th {\n",
       "        vertical-align: top;\n",
       "    }\n",
       "\n",
       "    .dataframe thead th {\n",
       "        text-align: right;\n",
       "    }\n",
       "</style>\n",
       "<table border=\"1\" class=\"dataframe\">\n",
       "  <thead>\n",
       "    <tr style=\"text-align: right;\">\n",
       "      <th></th>\n",
       "      <th>user_id</th>\n",
       "      <th>First Name</th>\n",
       "      <th>Surname</th>\n",
       "    </tr>\n",
       "  </thead>\n",
       "  <tbody>\n",
       "    <tr>\n",
       "      <th>0</th>\n",
       "      <td>1</td>\n",
       "      <td>Linda</td>\n",
       "      <td>Nguyen</td>\n",
       "    </tr>\n",
       "    <tr>\n",
       "      <th>1</th>\n",
       "      <td>1</td>\n",
       "      <td>Linda</td>\n",
       "      <td>Nguyen</td>\n",
       "    </tr>\n",
       "    <tr>\n",
       "      <th>2</th>\n",
       "      <td>1</td>\n",
       "      <td>Linda</td>\n",
       "      <td>Nguyen</td>\n",
       "    </tr>\n",
       "    <tr>\n",
       "      <th>3</th>\n",
       "      <td>1</td>\n",
       "      <td>Linda</td>\n",
       "      <td>Nguyen</td>\n",
       "    </tr>\n",
       "    <tr>\n",
       "      <th>4</th>\n",
       "      <td>1</td>\n",
       "      <td>Linda</td>\n",
       "      <td>Nguyen</td>\n",
       "    </tr>\n",
       "  </tbody>\n",
       "</table>\n",
       "</div>"
      ],
      "text/plain": [
       "  user_id First Name Surname\n",
       "0       1      Linda  Nguyen\n",
       "1       1      Linda  Nguyen\n",
       "2       1      Linda  Nguyen\n",
       "3       1      Linda  Nguyen\n",
       "4       1      Linda  Nguyen"
      ]
     },
     "execution_count": 6,
     "metadata": {},
     "output_type": "execute_result"
    }
   ],
   "source": [
    "customers_pii.head()"
   ]
  },
  {
   "cell_type": "code",
   "execution_count": 7,
   "id": "c5c61977",
   "metadata": {},
   "outputs": [],
   "source": [
    "orders_products_all = orders_products_all.drop(['First Name', 'Surname'], axis = 1)"
   ]
  },
  {
   "cell_type": "code",
   "execution_count": 8,
   "id": "b1515f8d",
   "metadata": {},
   "outputs": [
    {
     "data": {
      "text/html": [
       "<div>\n",
       "<style scoped>\n",
       "    .dataframe tbody tr th:only-of-type {\n",
       "        vertical-align: middle;\n",
       "    }\n",
       "\n",
       "    .dataframe tbody tr th {\n",
       "        vertical-align: top;\n",
       "    }\n",
       "\n",
       "    .dataframe thead th {\n",
       "        text-align: right;\n",
       "    }\n",
       "</style>\n",
       "<table border=\"1\" class=\"dataframe\">\n",
       "  <thead>\n",
       "    <tr style=\"text-align: right;\">\n",
       "      <th></th>\n",
       "      <th>order_id</th>\n",
       "      <th>user_id</th>\n",
       "      <th>order_number</th>\n",
       "      <th>orders_day_of_week</th>\n",
       "      <th>order_hour_of_day</th>\n",
       "      <th>days_since_prior_order</th>\n",
       "      <th>product_id</th>\n",
       "      <th>add_to_cart_order</th>\n",
       "      <th>reordered</th>\n",
       "      <th>product_name</th>\n",
       "      <th>...</th>\n",
       "      <th>spending_flag</th>\n",
       "      <th>frequency_flag</th>\n",
       "      <th>Gender</th>\n",
       "      <th>State</th>\n",
       "      <th>Age</th>\n",
       "      <th>date_joined</th>\n",
       "      <th>n_dependants</th>\n",
       "      <th>familial_status</th>\n",
       "      <th>income</th>\n",
       "      <th>_merge</th>\n",
       "    </tr>\n",
       "  </thead>\n",
       "  <tbody>\n",
       "    <tr>\n",
       "      <th>0</th>\n",
       "      <td>2539329</td>\n",
       "      <td>1</td>\n",
       "      <td>1</td>\n",
       "      <td>2</td>\n",
       "      <td>8</td>\n",
       "      <td>NaN</td>\n",
       "      <td>196</td>\n",
       "      <td>1</td>\n",
       "      <td>0</td>\n",
       "      <td>Soda</td>\n",
       "      <td>...</td>\n",
       "      <td>Low spender</td>\n",
       "      <td>Non-frequent customer</td>\n",
       "      <td>Female</td>\n",
       "      <td>Alabama</td>\n",
       "      <td>31</td>\n",
       "      <td>2/17/2019</td>\n",
       "      <td>3</td>\n",
       "      <td>married</td>\n",
       "      <td>40423</td>\n",
       "      <td>both</td>\n",
       "    </tr>\n",
       "    <tr>\n",
       "      <th>1</th>\n",
       "      <td>2398795</td>\n",
       "      <td>1</td>\n",
       "      <td>2</td>\n",
       "      <td>3</td>\n",
       "      <td>7</td>\n",
       "      <td>15.0</td>\n",
       "      <td>196</td>\n",
       "      <td>1</td>\n",
       "      <td>1</td>\n",
       "      <td>Soda</td>\n",
       "      <td>...</td>\n",
       "      <td>Low spender</td>\n",
       "      <td>Non-frequent customer</td>\n",
       "      <td>Female</td>\n",
       "      <td>Alabama</td>\n",
       "      <td>31</td>\n",
       "      <td>2/17/2019</td>\n",
       "      <td>3</td>\n",
       "      <td>married</td>\n",
       "      <td>40423</td>\n",
       "      <td>both</td>\n",
       "    </tr>\n",
       "    <tr>\n",
       "      <th>2</th>\n",
       "      <td>473747</td>\n",
       "      <td>1</td>\n",
       "      <td>3</td>\n",
       "      <td>3</td>\n",
       "      <td>12</td>\n",
       "      <td>21.0</td>\n",
       "      <td>196</td>\n",
       "      <td>1</td>\n",
       "      <td>1</td>\n",
       "      <td>Soda</td>\n",
       "      <td>...</td>\n",
       "      <td>Low spender</td>\n",
       "      <td>Non-frequent customer</td>\n",
       "      <td>Female</td>\n",
       "      <td>Alabama</td>\n",
       "      <td>31</td>\n",
       "      <td>2/17/2019</td>\n",
       "      <td>3</td>\n",
       "      <td>married</td>\n",
       "      <td>40423</td>\n",
       "      <td>both</td>\n",
       "    </tr>\n",
       "    <tr>\n",
       "      <th>3</th>\n",
       "      <td>2254736</td>\n",
       "      <td>1</td>\n",
       "      <td>4</td>\n",
       "      <td>4</td>\n",
       "      <td>7</td>\n",
       "      <td>29.0</td>\n",
       "      <td>196</td>\n",
       "      <td>1</td>\n",
       "      <td>1</td>\n",
       "      <td>Soda</td>\n",
       "      <td>...</td>\n",
       "      <td>Low spender</td>\n",
       "      <td>Non-frequent customer</td>\n",
       "      <td>Female</td>\n",
       "      <td>Alabama</td>\n",
       "      <td>31</td>\n",
       "      <td>2/17/2019</td>\n",
       "      <td>3</td>\n",
       "      <td>married</td>\n",
       "      <td>40423</td>\n",
       "      <td>both</td>\n",
       "    </tr>\n",
       "    <tr>\n",
       "      <th>4</th>\n",
       "      <td>431534</td>\n",
       "      <td>1</td>\n",
       "      <td>5</td>\n",
       "      <td>4</td>\n",
       "      <td>15</td>\n",
       "      <td>28.0</td>\n",
       "      <td>196</td>\n",
       "      <td>1</td>\n",
       "      <td>1</td>\n",
       "      <td>Soda</td>\n",
       "      <td>...</td>\n",
       "      <td>Low spender</td>\n",
       "      <td>Non-frequent customer</td>\n",
       "      <td>Female</td>\n",
       "      <td>Alabama</td>\n",
       "      <td>31</td>\n",
       "      <td>2/17/2019</td>\n",
       "      <td>3</td>\n",
       "      <td>married</td>\n",
       "      <td>40423</td>\n",
       "      <td>both</td>\n",
       "    </tr>\n",
       "  </tbody>\n",
       "</table>\n",
       "<p>5 rows × 28 columns</p>\n",
       "</div>"
      ],
      "text/plain": [
       "   order_id user_id  order_number  orders_day_of_week  order_hour_of_day  \\\n",
       "0   2539329       1             1                   2                  8   \n",
       "1   2398795       1             2                   3                  7   \n",
       "2    473747       1             3                   3                 12   \n",
       "3   2254736       1             4                   4                  7   \n",
       "4    431534       1             5                   4                 15   \n",
       "\n",
       "   days_since_prior_order  product_id  add_to_cart_order  reordered  \\\n",
       "0                     NaN         196                  1          0   \n",
       "1                    15.0         196                  1          1   \n",
       "2                    21.0         196                  1          1   \n",
       "3                    29.0         196                  1          1   \n",
       "4                    28.0         196                  1          1   \n",
       "\n",
       "  product_name  ...  spending_flag         frequency_flag  Gender    State  \\\n",
       "0         Soda  ...    Low spender  Non-frequent customer  Female  Alabama   \n",
       "1         Soda  ...    Low spender  Non-frequent customer  Female  Alabama   \n",
       "2         Soda  ...    Low spender  Non-frequent customer  Female  Alabama   \n",
       "3         Soda  ...    Low spender  Non-frequent customer  Female  Alabama   \n",
       "4         Soda  ...    Low spender  Non-frequent customer  Female  Alabama   \n",
       "\n",
       "  Age date_joined n_dependants familial_status income _merge  \n",
       "0  31   2/17/2019            3         married  40423   both  \n",
       "1  31   2/17/2019            3         married  40423   both  \n",
       "2  31   2/17/2019            3         married  40423   both  \n",
       "3  31   2/17/2019            3         married  40423   both  \n",
       "4  31   2/17/2019            3         married  40423   both  \n",
       "\n",
       "[5 rows x 28 columns]"
      ]
     },
     "execution_count": 8,
     "metadata": {},
     "output_type": "execute_result"
    }
   ],
   "source": [
    "orders_products_all.head()"
   ]
  },
  {
   "cell_type": "markdown",
   "id": "85898c42",
   "metadata": {},
   "source": [
    "## Regional segmentation of the data"
   ]
  },
  {
   "cell_type": "code",
   "execution_count": 9,
   "id": "6aa0e46e",
   "metadata": {},
   "outputs": [],
   "source": [
    "# Assigning states to Northeast Region\n",
    "\n",
    "orders_products_all.loc[orders_products_all['State'].isin(['Maine',\n",
    "                                                         'New Hampshire',\n",
    "                                                         'Vermont',\n",
    "                                                         'Massachusetts',\n",
    "                                                         'Rhode Island',\n",
    "                                                         'Connecticut',\n",
    "                                                         'New York',\n",
    "                                                         'Pennsylvania',\n",
    "                                                         'New Jersey']),\n",
    "                        'region'] = 'Northeast'"
   ]
  },
  {
   "cell_type": "code",
   "execution_count": 10,
   "id": "b743591c",
   "metadata": {},
   "outputs": [],
   "source": [
    "# Assigning states to Midwest Region\n",
    "\n",
    "orders_products_all.loc[orders_products_all['State'].isin(['Wisconsin',\n",
    "                                                          'Michigan',\n",
    "                                                          'Illinois',\n",
    "                                                          'Indiana',\n",
    "                                                          'Ohio',\n",
    "                                                          'North Dakota',\n",
    "                                                          'South Dakota',\n",
    "                                                          'Nebraska',\n",
    "                                                          'Kansas',\n",
    "                                                          'Minnesota',\n",
    "                                                          'Iowa',\n",
    "                                                          'Missouri']),\n",
    "                        'region'] = 'Midwest'"
   ]
  },
  {
   "cell_type": "code",
   "execution_count": 11,
   "id": "bb479acf",
   "metadata": {},
   "outputs": [],
   "source": [
    "# Assigning states to South Region\n",
    "\n",
    "orders_products_all.loc[orders_products_all['State'].isin(['Delaware',\n",
    "                                                          'Maryland',\n",
    "                                                          'District of Columbia',\n",
    "                                                          'Virginia',\n",
    "                                                          'West Virginia',\n",
    "                                                          'North Carolina',\n",
    "                                                          'South Carolina',\n",
    "                                                          'Georgia',\n",
    "                                                          'Florida',\n",
    "                                                          'Kentucky',\n",
    "                                                          'Tennessee',\n",
    "                                                          'Mississippi',\n",
    "                                                          'Oklahoma',\n",
    "                                                          'Alabama',\n",
    "                                                          'Texas',\n",
    "                                                          'Arkansas',\n",
    "                                                          'Louisiana']),\n",
    "                        'region'] = 'South'"
   ]
  },
  {
   "cell_type": "code",
   "execution_count": 12,
   "id": "8cc1902b",
   "metadata": {},
   "outputs": [],
   "source": [
    "# Assigning states to West Region\n",
    "\n",
    "orders_products_all.loc[orders_products_all['State'].isin(['Idaho',\n",
    "                                                          'Montana',\n",
    "                                                          'Wyoming',\n",
    "                                                          'Nevada',\n",
    "                                                          'Utah',\n",
    "                                                          'Colorado',\n",
    "                                                          'Arizona',\n",
    "                                                          'New Mexico',\n",
    "                                                          'Alaska',\n",
    "                                                          'Washington',\n",
    "                                                          'Oregon',\n",
    "                                                          'California',\n",
    "                                                          'Hawaii']),\n",
    "                        'region'] = 'West'"
   ]
  },
  {
   "cell_type": "code",
   "execution_count": 13,
   "id": "213d81ea",
   "metadata": {},
   "outputs": [
    {
     "data": {
      "text/html": [
       "<div>\n",
       "<style scoped>\n",
       "    .dataframe tbody tr th:only-of-type {\n",
       "        vertical-align: middle;\n",
       "    }\n",
       "\n",
       "    .dataframe tbody tr th {\n",
       "        vertical-align: top;\n",
       "    }\n",
       "\n",
       "    .dataframe thead th {\n",
       "        text-align: right;\n",
       "    }\n",
       "</style>\n",
       "<table border=\"1\" class=\"dataframe\">\n",
       "  <thead>\n",
       "    <tr style=\"text-align: right;\">\n",
       "      <th></th>\n",
       "      <th>order_id</th>\n",
       "      <th>user_id</th>\n",
       "      <th>order_number</th>\n",
       "      <th>orders_day_of_week</th>\n",
       "      <th>order_hour_of_day</th>\n",
       "      <th>days_since_prior_order</th>\n",
       "      <th>product_id</th>\n",
       "      <th>add_to_cart_order</th>\n",
       "      <th>reordered</th>\n",
       "      <th>product_name</th>\n",
       "      <th>...</th>\n",
       "      <th>frequency_flag</th>\n",
       "      <th>Gender</th>\n",
       "      <th>State</th>\n",
       "      <th>Age</th>\n",
       "      <th>date_joined</th>\n",
       "      <th>n_dependants</th>\n",
       "      <th>familial_status</th>\n",
       "      <th>income</th>\n",
       "      <th>_merge</th>\n",
       "      <th>region</th>\n",
       "    </tr>\n",
       "  </thead>\n",
       "  <tbody>\n",
       "    <tr>\n",
       "      <th>0</th>\n",
       "      <td>2539329</td>\n",
       "      <td>1</td>\n",
       "      <td>1</td>\n",
       "      <td>2</td>\n",
       "      <td>8</td>\n",
       "      <td>NaN</td>\n",
       "      <td>196</td>\n",
       "      <td>1</td>\n",
       "      <td>0</td>\n",
       "      <td>Soda</td>\n",
       "      <td>...</td>\n",
       "      <td>Non-frequent customer</td>\n",
       "      <td>Female</td>\n",
       "      <td>Alabama</td>\n",
       "      <td>31</td>\n",
       "      <td>2/17/2019</td>\n",
       "      <td>3</td>\n",
       "      <td>married</td>\n",
       "      <td>40423</td>\n",
       "      <td>both</td>\n",
       "      <td>South</td>\n",
       "    </tr>\n",
       "    <tr>\n",
       "      <th>1</th>\n",
       "      <td>2398795</td>\n",
       "      <td>1</td>\n",
       "      <td>2</td>\n",
       "      <td>3</td>\n",
       "      <td>7</td>\n",
       "      <td>15.0</td>\n",
       "      <td>196</td>\n",
       "      <td>1</td>\n",
       "      <td>1</td>\n",
       "      <td>Soda</td>\n",
       "      <td>...</td>\n",
       "      <td>Non-frequent customer</td>\n",
       "      <td>Female</td>\n",
       "      <td>Alabama</td>\n",
       "      <td>31</td>\n",
       "      <td>2/17/2019</td>\n",
       "      <td>3</td>\n",
       "      <td>married</td>\n",
       "      <td>40423</td>\n",
       "      <td>both</td>\n",
       "      <td>South</td>\n",
       "    </tr>\n",
       "    <tr>\n",
       "      <th>2</th>\n",
       "      <td>473747</td>\n",
       "      <td>1</td>\n",
       "      <td>3</td>\n",
       "      <td>3</td>\n",
       "      <td>12</td>\n",
       "      <td>21.0</td>\n",
       "      <td>196</td>\n",
       "      <td>1</td>\n",
       "      <td>1</td>\n",
       "      <td>Soda</td>\n",
       "      <td>...</td>\n",
       "      <td>Non-frequent customer</td>\n",
       "      <td>Female</td>\n",
       "      <td>Alabama</td>\n",
       "      <td>31</td>\n",
       "      <td>2/17/2019</td>\n",
       "      <td>3</td>\n",
       "      <td>married</td>\n",
       "      <td>40423</td>\n",
       "      <td>both</td>\n",
       "      <td>South</td>\n",
       "    </tr>\n",
       "    <tr>\n",
       "      <th>3</th>\n",
       "      <td>2254736</td>\n",
       "      <td>1</td>\n",
       "      <td>4</td>\n",
       "      <td>4</td>\n",
       "      <td>7</td>\n",
       "      <td>29.0</td>\n",
       "      <td>196</td>\n",
       "      <td>1</td>\n",
       "      <td>1</td>\n",
       "      <td>Soda</td>\n",
       "      <td>...</td>\n",
       "      <td>Non-frequent customer</td>\n",
       "      <td>Female</td>\n",
       "      <td>Alabama</td>\n",
       "      <td>31</td>\n",
       "      <td>2/17/2019</td>\n",
       "      <td>3</td>\n",
       "      <td>married</td>\n",
       "      <td>40423</td>\n",
       "      <td>both</td>\n",
       "      <td>South</td>\n",
       "    </tr>\n",
       "    <tr>\n",
       "      <th>4</th>\n",
       "      <td>431534</td>\n",
       "      <td>1</td>\n",
       "      <td>5</td>\n",
       "      <td>4</td>\n",
       "      <td>15</td>\n",
       "      <td>28.0</td>\n",
       "      <td>196</td>\n",
       "      <td>1</td>\n",
       "      <td>1</td>\n",
       "      <td>Soda</td>\n",
       "      <td>...</td>\n",
       "      <td>Non-frequent customer</td>\n",
       "      <td>Female</td>\n",
       "      <td>Alabama</td>\n",
       "      <td>31</td>\n",
       "      <td>2/17/2019</td>\n",
       "      <td>3</td>\n",
       "      <td>married</td>\n",
       "      <td>40423</td>\n",
       "      <td>both</td>\n",
       "      <td>South</td>\n",
       "    </tr>\n",
       "    <tr>\n",
       "      <th>5</th>\n",
       "      <td>3367565</td>\n",
       "      <td>1</td>\n",
       "      <td>6</td>\n",
       "      <td>2</td>\n",
       "      <td>7</td>\n",
       "      <td>19.0</td>\n",
       "      <td>196</td>\n",
       "      <td>1</td>\n",
       "      <td>1</td>\n",
       "      <td>Soda</td>\n",
       "      <td>...</td>\n",
       "      <td>Non-frequent customer</td>\n",
       "      <td>Female</td>\n",
       "      <td>Alabama</td>\n",
       "      <td>31</td>\n",
       "      <td>2/17/2019</td>\n",
       "      <td>3</td>\n",
       "      <td>married</td>\n",
       "      <td>40423</td>\n",
       "      <td>both</td>\n",
       "      <td>South</td>\n",
       "    </tr>\n",
       "    <tr>\n",
       "      <th>6</th>\n",
       "      <td>550135</td>\n",
       "      <td>1</td>\n",
       "      <td>7</td>\n",
       "      <td>1</td>\n",
       "      <td>9</td>\n",
       "      <td>20.0</td>\n",
       "      <td>196</td>\n",
       "      <td>1</td>\n",
       "      <td>1</td>\n",
       "      <td>Soda</td>\n",
       "      <td>...</td>\n",
       "      <td>Non-frequent customer</td>\n",
       "      <td>Female</td>\n",
       "      <td>Alabama</td>\n",
       "      <td>31</td>\n",
       "      <td>2/17/2019</td>\n",
       "      <td>3</td>\n",
       "      <td>married</td>\n",
       "      <td>40423</td>\n",
       "      <td>both</td>\n",
       "      <td>South</td>\n",
       "    </tr>\n",
       "    <tr>\n",
       "      <th>7</th>\n",
       "      <td>3108588</td>\n",
       "      <td>1</td>\n",
       "      <td>8</td>\n",
       "      <td>1</td>\n",
       "      <td>14</td>\n",
       "      <td>14.0</td>\n",
       "      <td>196</td>\n",
       "      <td>2</td>\n",
       "      <td>1</td>\n",
       "      <td>Soda</td>\n",
       "      <td>...</td>\n",
       "      <td>Non-frequent customer</td>\n",
       "      <td>Female</td>\n",
       "      <td>Alabama</td>\n",
       "      <td>31</td>\n",
       "      <td>2/17/2019</td>\n",
       "      <td>3</td>\n",
       "      <td>married</td>\n",
       "      <td>40423</td>\n",
       "      <td>both</td>\n",
       "      <td>South</td>\n",
       "    </tr>\n",
       "    <tr>\n",
       "      <th>8</th>\n",
       "      <td>2295261</td>\n",
       "      <td>1</td>\n",
       "      <td>9</td>\n",
       "      <td>1</td>\n",
       "      <td>16</td>\n",
       "      <td>0.0</td>\n",
       "      <td>196</td>\n",
       "      <td>4</td>\n",
       "      <td>1</td>\n",
       "      <td>Soda</td>\n",
       "      <td>...</td>\n",
       "      <td>Non-frequent customer</td>\n",
       "      <td>Female</td>\n",
       "      <td>Alabama</td>\n",
       "      <td>31</td>\n",
       "      <td>2/17/2019</td>\n",
       "      <td>3</td>\n",
       "      <td>married</td>\n",
       "      <td>40423</td>\n",
       "      <td>both</td>\n",
       "      <td>South</td>\n",
       "    </tr>\n",
       "    <tr>\n",
       "      <th>9</th>\n",
       "      <td>2550362</td>\n",
       "      <td>1</td>\n",
       "      <td>10</td>\n",
       "      <td>4</td>\n",
       "      <td>8</td>\n",
       "      <td>30.0</td>\n",
       "      <td>196</td>\n",
       "      <td>1</td>\n",
       "      <td>1</td>\n",
       "      <td>Soda</td>\n",
       "      <td>...</td>\n",
       "      <td>Non-frequent customer</td>\n",
       "      <td>Female</td>\n",
       "      <td>Alabama</td>\n",
       "      <td>31</td>\n",
       "      <td>2/17/2019</td>\n",
       "      <td>3</td>\n",
       "      <td>married</td>\n",
       "      <td>40423</td>\n",
       "      <td>both</td>\n",
       "      <td>South</td>\n",
       "    </tr>\n",
       "  </tbody>\n",
       "</table>\n",
       "<p>10 rows × 29 columns</p>\n",
       "</div>"
      ],
      "text/plain": [
       "   order_id user_id  order_number  orders_day_of_week  order_hour_of_day  \\\n",
       "0   2539329       1             1                   2                  8   \n",
       "1   2398795       1             2                   3                  7   \n",
       "2    473747       1             3                   3                 12   \n",
       "3   2254736       1             4                   4                  7   \n",
       "4    431534       1             5                   4                 15   \n",
       "5   3367565       1             6                   2                  7   \n",
       "6    550135       1             7                   1                  9   \n",
       "7   3108588       1             8                   1                 14   \n",
       "8   2295261       1             9                   1                 16   \n",
       "9   2550362       1            10                   4                  8   \n",
       "\n",
       "   days_since_prior_order  product_id  add_to_cart_order  reordered  \\\n",
       "0                     NaN         196                  1          0   \n",
       "1                    15.0         196                  1          1   \n",
       "2                    21.0         196                  1          1   \n",
       "3                    29.0         196                  1          1   \n",
       "4                    28.0         196                  1          1   \n",
       "5                    19.0         196                  1          1   \n",
       "6                    20.0         196                  1          1   \n",
       "7                    14.0         196                  2          1   \n",
       "8                     0.0         196                  4          1   \n",
       "9                    30.0         196                  1          1   \n",
       "\n",
       "  product_name  ...         frequency_flag  Gender    State Age date_joined  \\\n",
       "0         Soda  ...  Non-frequent customer  Female  Alabama  31   2/17/2019   \n",
       "1         Soda  ...  Non-frequent customer  Female  Alabama  31   2/17/2019   \n",
       "2         Soda  ...  Non-frequent customer  Female  Alabama  31   2/17/2019   \n",
       "3         Soda  ...  Non-frequent customer  Female  Alabama  31   2/17/2019   \n",
       "4         Soda  ...  Non-frequent customer  Female  Alabama  31   2/17/2019   \n",
       "5         Soda  ...  Non-frequent customer  Female  Alabama  31   2/17/2019   \n",
       "6         Soda  ...  Non-frequent customer  Female  Alabama  31   2/17/2019   \n",
       "7         Soda  ...  Non-frequent customer  Female  Alabama  31   2/17/2019   \n",
       "8         Soda  ...  Non-frequent customer  Female  Alabama  31   2/17/2019   \n",
       "9         Soda  ...  Non-frequent customer  Female  Alabama  31   2/17/2019   \n",
       "\n",
       "  n_dependants familial_status income _merge region  \n",
       "0            3         married  40423   both  South  \n",
       "1            3         married  40423   both  South  \n",
       "2            3         married  40423   both  South  \n",
       "3            3         married  40423   both  South  \n",
       "4            3         married  40423   both  South  \n",
       "5            3         married  40423   both  South  \n",
       "6            3         married  40423   both  South  \n",
       "7            3         married  40423   both  South  \n",
       "8            3         married  40423   both  South  \n",
       "9            3         married  40423   both  South  \n",
       "\n",
       "[10 rows x 29 columns]"
      ]
     },
     "execution_count": 13,
     "metadata": {},
     "output_type": "execute_result"
    }
   ],
   "source": [
    "orders_products_all.head(10)"
   ]
  },
  {
   "cell_type": "code",
   "execution_count": 14,
   "id": "ada758f2",
   "metadata": {},
   "outputs": [
    {
     "data": {
      "text/plain": [
       "region\n",
       "South        10792300\n",
       "West          8293217\n",
       "Midwest       7597585\n",
       "Northeast     5722939\n",
       "Name: count, dtype: int64"
      ]
     },
     "execution_count": 14,
     "metadata": {},
     "output_type": "execute_result"
    }
   ],
   "source": [
    "orders_products_all['region'].value_counts(dropna = False)"
   ]
  },
  {
   "cell_type": "code",
   "execution_count": 15,
   "id": "0761514b",
   "metadata": {},
   "outputs": [],
   "source": [
    "# Crossing the the variables 'region' and 'spending_flag'\n",
    "\n",
    "regional_spending = orders_products_all[['region', 'spending_flag']].value_counts()"
   ]
  },
  {
   "cell_type": "code",
   "execution_count": 16,
   "id": "a1b9ca86",
   "metadata": {},
   "outputs": [
    {
     "data": {
      "text/plain": [
       "region     spending_flag\n",
       "South      Low spender      10582607\n",
       "West       Low spender       8132863\n",
       "Midwest    Low spender       7441606\n",
       "Northeast  Low spender       5614713\n",
       "South      High spender       209693\n",
       "West       High spender       160354\n",
       "Midwest    High spender       155979\n",
       "Northeast  High spender       108226\n",
       "Name: count, dtype: int64"
      ]
     },
     "execution_count": 16,
     "metadata": {},
     "output_type": "execute_result"
    }
   ],
   "source": [
    "regional_spending"
   ]
  },
  {
   "cell_type": "code",
   "execution_count": 17,
   "id": "4c126ad1",
   "metadata": {},
   "outputs": [],
   "source": [
    "# Converting the Series into a DataFrame for further analyses\n",
    "\n",
    "regional_spending_df = regional_spending.reset_index(name='count')"
   ]
  },
  {
   "cell_type": "code",
   "execution_count": 18,
   "id": "940708f9",
   "metadata": {},
   "outputs": [
    {
     "data": {
      "text/html": [
       "<div>\n",
       "<style scoped>\n",
       "    .dataframe tbody tr th:only-of-type {\n",
       "        vertical-align: middle;\n",
       "    }\n",
       "\n",
       "    .dataframe tbody tr th {\n",
       "        vertical-align: top;\n",
       "    }\n",
       "\n",
       "    .dataframe thead th {\n",
       "        text-align: right;\n",
       "    }\n",
       "</style>\n",
       "<table border=\"1\" class=\"dataframe\">\n",
       "  <thead>\n",
       "    <tr style=\"text-align: right;\">\n",
       "      <th></th>\n",
       "      <th>region</th>\n",
       "      <th>spending_flag</th>\n",
       "      <th>count</th>\n",
       "    </tr>\n",
       "  </thead>\n",
       "  <tbody>\n",
       "    <tr>\n",
       "      <th>0</th>\n",
       "      <td>South</td>\n",
       "      <td>Low spender</td>\n",
       "      <td>10582607</td>\n",
       "    </tr>\n",
       "    <tr>\n",
       "      <th>1</th>\n",
       "      <td>West</td>\n",
       "      <td>Low spender</td>\n",
       "      <td>8132863</td>\n",
       "    </tr>\n",
       "    <tr>\n",
       "      <th>2</th>\n",
       "      <td>Midwest</td>\n",
       "      <td>Low spender</td>\n",
       "      <td>7441606</td>\n",
       "    </tr>\n",
       "    <tr>\n",
       "      <th>3</th>\n",
       "      <td>Northeast</td>\n",
       "      <td>Low spender</td>\n",
       "      <td>5614713</td>\n",
       "    </tr>\n",
       "    <tr>\n",
       "      <th>4</th>\n",
       "      <td>South</td>\n",
       "      <td>High spender</td>\n",
       "      <td>209693</td>\n",
       "    </tr>\n",
       "    <tr>\n",
       "      <th>5</th>\n",
       "      <td>West</td>\n",
       "      <td>High spender</td>\n",
       "      <td>160354</td>\n",
       "    </tr>\n",
       "    <tr>\n",
       "      <th>6</th>\n",
       "      <td>Midwest</td>\n",
       "      <td>High spender</td>\n",
       "      <td>155979</td>\n",
       "    </tr>\n",
       "    <tr>\n",
       "      <th>7</th>\n",
       "      <td>Northeast</td>\n",
       "      <td>High spender</td>\n",
       "      <td>108226</td>\n",
       "    </tr>\n",
       "  </tbody>\n",
       "</table>\n",
       "</div>"
      ],
      "text/plain": [
       "      region spending_flag     count\n",
       "0      South   Low spender  10582607\n",
       "1       West   Low spender   8132863\n",
       "2    Midwest   Low spender   7441606\n",
       "3  Northeast   Low spender   5614713\n",
       "4      South  High spender    209693\n",
       "5       West  High spender    160354\n",
       "6    Midwest  High spender    155979\n",
       "7  Northeast  High spender    108226"
      ]
     },
     "execution_count": 18,
     "metadata": {},
     "output_type": "execute_result"
    }
   ],
   "source": [
    "regional_spending_df"
   ]
  },
  {
   "cell_type": "code",
   "execution_count": 19,
   "id": "02577edd",
   "metadata": {},
   "outputs": [
    {
     "data": {
      "text/plain": [
       "Text(0, 0.5, 'Count')"
      ]
     },
     "execution_count": 19,
     "metadata": {},
     "output_type": "execute_result"
    },
    {
     "data": {
      "image/png": "[encoded data removed]",
      "text/plain": [
       "<Figure size 1200x600 with 1 Axes>"
      ]
     },
     "metadata": {},
     "output_type": "display_data"
    }
   ],
   "source": [
    "plt.figure(figsize=(12, 6))\n",
    "regional_spending_habits = sns.barplot(data=regional_spending_df, x='region', y='count', hue='spending_flag')\n",
    "plt.title('Spending Habits by Region', fontweight='bold')\n",
    "plt.xlabel('Region')\n",
    "plt.ylabel('Count')"
   ]
  },
  {
   "cell_type": "code",
   "execution_count": 20,
   "id": "3f858d9f",
   "metadata": {},
   "outputs": [],
   "source": [
    "regional_spending_habits.figure.savefig(os.path.join(path, '04 Analysis','Visualizations', 'regional_spending_habits.png'))"
   ]
  },
  {
   "cell_type": "markdown",
   "id": "4739c3b0",
   "metadata": {},
   "source": [
    "## Exclusion flag for low-activity customers"
   ]
  },
  {
   "cell_type": "code",
   "execution_count": 21,
   "id": "a2d19bab",
   "metadata": {},
   "outputs": [],
   "source": [
    "orders_products_all['max_order'] = orders_products_all.groupby(['user_id'])['order_number'].transform(np.max)"
   ]
  },
  {
   "cell_type": "code",
   "execution_count": 22,
   "id": "960b8307",
   "metadata": {},
   "outputs": [],
   "source": [
    "orders_products_all.loc[orders_products_all['max_order'] < 5, 'activity_flag'] = 'Low-activity customer'"
   ]
  },
  {
   "cell_type": "code",
   "execution_count": 23,
   "id": "e4ad9baa",
   "metadata": {},
   "outputs": [],
   "source": [
    "orders_products_all.loc[orders_products_all['max_order'] >= 5, 'activity_flag'] = 'More than 5 orders customer'"
   ]
  },
  {
   "cell_type": "code",
   "execution_count": 24,
   "id": "6e081d79",
   "metadata": {},
   "outputs": [],
   "source": [
    "low_activity_customers = orders_products_all[orders_products_all['activity_flag'] == 'Low-activity customer']"
   ]
  },
  {
   "cell_type": "code",
   "execution_count": 25,
   "id": "c640a047",
   "metadata": {},
   "outputs": [
    {
     "data": {
      "text/html": [
       "<div>\n",
       "<style scoped>\n",
       "    .dataframe tbody tr th:only-of-type {\n",
       "        vertical-align: middle;\n",
       "    }\n",
       "\n",
       "    .dataframe tbody tr th {\n",
       "        vertical-align: top;\n",
       "    }\n",
       "\n",
       "    .dataframe thead th {\n",
       "        text-align: right;\n",
       "    }\n",
       "</style>\n",
       "<table border=\"1\" class=\"dataframe\">\n",
       "  <thead>\n",
       "    <tr style=\"text-align: right;\">\n",
       "      <th></th>\n",
       "      <th>order_id</th>\n",
       "      <th>user_id</th>\n",
       "      <th>order_number</th>\n",
       "      <th>orders_day_of_week</th>\n",
       "      <th>order_hour_of_day</th>\n",
       "      <th>days_since_prior_order</th>\n",
       "      <th>product_id</th>\n",
       "      <th>add_to_cart_order</th>\n",
       "      <th>reordered</th>\n",
       "      <th>product_name</th>\n",
       "      <th>...</th>\n",
       "      <th>State</th>\n",
       "      <th>Age</th>\n",
       "      <th>date_joined</th>\n",
       "      <th>n_dependants</th>\n",
       "      <th>familial_status</th>\n",
       "      <th>income</th>\n",
       "      <th>_merge</th>\n",
       "      <th>region</th>\n",
       "      <th>max_order</th>\n",
       "      <th>activity_flag</th>\n",
       "    </tr>\n",
       "  </thead>\n",
       "  <tbody>\n",
       "    <tr>\n",
       "      <th>1510</th>\n",
       "      <td>520620</td>\n",
       "      <td>120</td>\n",
       "      <td>1</td>\n",
       "      <td>3</td>\n",
       "      <td>11</td>\n",
       "      <td>NaN</td>\n",
       "      <td>196</td>\n",
       "      <td>2</td>\n",
       "      <td>0</td>\n",
       "      <td>Soda</td>\n",
       "      <td>...</td>\n",
       "      <td>Kentucky</td>\n",
       "      <td>54</td>\n",
       "      <td>3/2/2017</td>\n",
       "      <td>2</td>\n",
       "      <td>married</td>\n",
       "      <td>99219</td>\n",
       "      <td>both</td>\n",
       "      <td>South</td>\n",
       "      <td>3</td>\n",
       "      <td>Low-activity customer</td>\n",
       "    </tr>\n",
       "    <tr>\n",
       "      <th>1511</th>\n",
       "      <td>3273029</td>\n",
       "      <td>120</td>\n",
       "      <td>3</td>\n",
       "      <td>2</td>\n",
       "      <td>8</td>\n",
       "      <td>19.0</td>\n",
       "      <td>196</td>\n",
       "      <td>2</td>\n",
       "      <td>1</td>\n",
       "      <td>Soda</td>\n",
       "      <td>...</td>\n",
       "      <td>Kentucky</td>\n",
       "      <td>54</td>\n",
       "      <td>3/2/2017</td>\n",
       "      <td>2</td>\n",
       "      <td>married</td>\n",
       "      <td>99219</td>\n",
       "      <td>both</td>\n",
       "      <td>South</td>\n",
       "      <td>3</td>\n",
       "      <td>Low-activity customer</td>\n",
       "    </tr>\n",
       "    <tr>\n",
       "      <th>1512</th>\n",
       "      <td>520620</td>\n",
       "      <td>120</td>\n",
       "      <td>1</td>\n",
       "      <td>3</td>\n",
       "      <td>11</td>\n",
       "      <td>NaN</td>\n",
       "      <td>46149</td>\n",
       "      <td>1</td>\n",
       "      <td>0</td>\n",
       "      <td>Zero Calorie Cola</td>\n",
       "      <td>...</td>\n",
       "      <td>Kentucky</td>\n",
       "      <td>54</td>\n",
       "      <td>3/2/2017</td>\n",
       "      <td>2</td>\n",
       "      <td>married</td>\n",
       "      <td>99219</td>\n",
       "      <td>both</td>\n",
       "      <td>South</td>\n",
       "      <td>3</td>\n",
       "      <td>Low-activity customer</td>\n",
       "    </tr>\n",
       "    <tr>\n",
       "      <th>1513</th>\n",
       "      <td>3273029</td>\n",
       "      <td>120</td>\n",
       "      <td>3</td>\n",
       "      <td>2</td>\n",
       "      <td>8</td>\n",
       "      <td>19.0</td>\n",
       "      <td>46149</td>\n",
       "      <td>1</td>\n",
       "      <td>1</td>\n",
       "      <td>Zero Calorie Cola</td>\n",
       "      <td>...</td>\n",
       "      <td>Kentucky</td>\n",
       "      <td>54</td>\n",
       "      <td>3/2/2017</td>\n",
       "      <td>2</td>\n",
       "      <td>married</td>\n",
       "      <td>99219</td>\n",
       "      <td>both</td>\n",
       "      <td>South</td>\n",
       "      <td>3</td>\n",
       "      <td>Low-activity customer</td>\n",
       "    </tr>\n",
       "    <tr>\n",
       "      <th>1514</th>\n",
       "      <td>520620</td>\n",
       "      <td>120</td>\n",
       "      <td>1</td>\n",
       "      <td>3</td>\n",
       "      <td>11</td>\n",
       "      <td>NaN</td>\n",
       "      <td>26348</td>\n",
       "      <td>3</td>\n",
       "      <td>0</td>\n",
       "      <td>Mixed Fruit Fruit Snacks</td>\n",
       "      <td>...</td>\n",
       "      <td>Kentucky</td>\n",
       "      <td>54</td>\n",
       "      <td>3/2/2017</td>\n",
       "      <td>2</td>\n",
       "      <td>married</td>\n",
       "      <td>99219</td>\n",
       "      <td>both</td>\n",
       "      <td>South</td>\n",
       "      <td>3</td>\n",
       "      <td>Low-activity customer</td>\n",
       "    </tr>\n",
       "    <tr>\n",
       "      <th>...</th>\n",
       "      <td>...</td>\n",
       "      <td>...</td>\n",
       "      <td>...</td>\n",
       "      <td>...</td>\n",
       "      <td>...</td>\n",
       "      <td>...</td>\n",
       "      <td>...</td>\n",
       "      <td>...</td>\n",
       "      <td>...</td>\n",
       "      <td>...</td>\n",
       "      <td>...</td>\n",
       "      <td>...</td>\n",
       "      <td>...</td>\n",
       "      <td>...</td>\n",
       "      <td>...</td>\n",
       "      <td>...</td>\n",
       "      <td>...</td>\n",
       "      <td>...</td>\n",
       "      <td>...</td>\n",
       "      <td>...</td>\n",
       "      <td>...</td>\n",
       "    </tr>\n",
       "    <tr>\n",
       "      <th>32406010</th>\n",
       "      <td>1947537</td>\n",
       "      <td>166751</td>\n",
       "      <td>3</td>\n",
       "      <td>4</td>\n",
       "      <td>7</td>\n",
       "      <td>0.0</td>\n",
       "      <td>49001</td>\n",
       "      <td>1</td>\n",
       "      <td>1</td>\n",
       "      <td>Melatonin 2.5 Mg Sublingual Orange Tablets</td>\n",
       "      <td>...</td>\n",
       "      <td>Oregon</td>\n",
       "      <td>38</td>\n",
       "      <td>8/17/2018</td>\n",
       "      <td>1</td>\n",
       "      <td>married</td>\n",
       "      <td>41766</td>\n",
       "      <td>both</td>\n",
       "      <td>West</td>\n",
       "      <td>3</td>\n",
       "      <td>Low-activity customer</td>\n",
       "    </tr>\n",
       "    <tr>\n",
       "      <th>32406037</th>\n",
       "      <td>484769</td>\n",
       "      <td>66343</td>\n",
       "      <td>1</td>\n",
       "      <td>6</td>\n",
       "      <td>11</td>\n",
       "      <td>NaN</td>\n",
       "      <td>47210</td>\n",
       "      <td>1</td>\n",
       "      <td>0</td>\n",
       "      <td>Fresh Farmed Tilapia Fillet</td>\n",
       "      <td>...</td>\n",
       "      <td>Tennessee</td>\n",
       "      <td>22</td>\n",
       "      <td>9/12/2017</td>\n",
       "      <td>3</td>\n",
       "      <td>married</td>\n",
       "      <td>46151</td>\n",
       "      <td>both</td>\n",
       "      <td>South</td>\n",
       "      <td>4</td>\n",
       "      <td>Low-activity customer</td>\n",
       "    </tr>\n",
       "    <tr>\n",
       "      <th>32406038</th>\n",
       "      <td>1561557</td>\n",
       "      <td>66343</td>\n",
       "      <td>2</td>\n",
       "      <td>1</td>\n",
       "      <td>11</td>\n",
       "      <td>30.0</td>\n",
       "      <td>47210</td>\n",
       "      <td>1</td>\n",
       "      <td>1</td>\n",
       "      <td>Fresh Farmed Tilapia Fillet</td>\n",
       "      <td>...</td>\n",
       "      <td>Tennessee</td>\n",
       "      <td>22</td>\n",
       "      <td>9/12/2017</td>\n",
       "      <td>3</td>\n",
       "      <td>married</td>\n",
       "      <td>46151</td>\n",
       "      <td>both</td>\n",
       "      <td>South</td>\n",
       "      <td>4</td>\n",
       "      <td>Low-activity customer</td>\n",
       "    </tr>\n",
       "    <tr>\n",
       "      <th>32406039</th>\n",
       "      <td>276317</td>\n",
       "      <td>66343</td>\n",
       "      <td>3</td>\n",
       "      <td>6</td>\n",
       "      <td>15</td>\n",
       "      <td>19.0</td>\n",
       "      <td>47210</td>\n",
       "      <td>1</td>\n",
       "      <td>1</td>\n",
       "      <td>Fresh Farmed Tilapia Fillet</td>\n",
       "      <td>...</td>\n",
       "      <td>Tennessee</td>\n",
       "      <td>22</td>\n",
       "      <td>9/12/2017</td>\n",
       "      <td>3</td>\n",
       "      <td>married</td>\n",
       "      <td>46151</td>\n",
       "      <td>both</td>\n",
       "      <td>South</td>\n",
       "      <td>4</td>\n",
       "      <td>Low-activity customer</td>\n",
       "    </tr>\n",
       "    <tr>\n",
       "      <th>32406040</th>\n",
       "      <td>2922475</td>\n",
       "      <td>66343</td>\n",
       "      <td>4</td>\n",
       "      <td>1</td>\n",
       "      <td>12</td>\n",
       "      <td>30.0</td>\n",
       "      <td>47210</td>\n",
       "      <td>1</td>\n",
       "      <td>1</td>\n",
       "      <td>Fresh Farmed Tilapia Fillet</td>\n",
       "      <td>...</td>\n",
       "      <td>Tennessee</td>\n",
       "      <td>22</td>\n",
       "      <td>9/12/2017</td>\n",
       "      <td>3</td>\n",
       "      <td>married</td>\n",
       "      <td>46151</td>\n",
       "      <td>both</td>\n",
       "      <td>South</td>\n",
       "      <td>4</td>\n",
       "      <td>Low-activity customer</td>\n",
       "    </tr>\n",
       "  </tbody>\n",
       "</table>\n",
       "<p>1440355 rows × 31 columns</p>\n",
       "</div>"
      ],
      "text/plain": [
       "          order_id user_id  order_number  orders_day_of_week  \\\n",
       "1510        520620     120             1                   3   \n",
       "1511       3273029     120             3                   2   \n",
       "1512        520620     120             1                   3   \n",
       "1513       3273029     120             3                   2   \n",
       "1514        520620     120             1                   3   \n",
       "...            ...     ...           ...                 ...   \n",
       "32406010   1947537  166751             3                   4   \n",
       "32406037    484769   66343             1                   6   \n",
       "32406038   1561557   66343             2                   1   \n",
       "32406039    276317   66343             3                   6   \n",
       "32406040   2922475   66343             4                   1   \n",
       "\n",
       "          order_hour_of_day  days_since_prior_order  product_id  \\\n",
       "1510                     11                     NaN         196   \n",
       "1511                      8                    19.0         196   \n",
       "1512                     11                     NaN       46149   \n",
       "1513                      8                    19.0       46149   \n",
       "1514                     11                     NaN       26348   \n",
       "...                     ...                     ...         ...   \n",
       "32406010                  7                     0.0       49001   \n",
       "32406037                 11                     NaN       47210   \n",
       "32406038                 11                    30.0       47210   \n",
       "32406039                 15                    19.0       47210   \n",
       "32406040                 12                    30.0       47210   \n",
       "\n",
       "          add_to_cart_order  reordered  \\\n",
       "1510                      2          0   \n",
       "1511                      2          1   \n",
       "1512                      1          0   \n",
       "1513                      1          1   \n",
       "1514                      3          0   \n",
       "...                     ...        ...   \n",
       "32406010                  1          1   \n",
       "32406037                  1          0   \n",
       "32406038                  1          1   \n",
       "32406039                  1          1   \n",
       "32406040                  1          1   \n",
       "\n",
       "                                        product_name  ...      State  Age  \\\n",
       "1510                                            Soda  ...   Kentucky   54   \n",
       "1511                                            Soda  ...   Kentucky   54   \n",
       "1512                               Zero Calorie Cola  ...   Kentucky   54   \n",
       "1513                               Zero Calorie Cola  ...   Kentucky   54   \n",
       "1514                        Mixed Fruit Fruit Snacks  ...   Kentucky   54   \n",
       "...                                              ...  ...        ...  ...   \n",
       "32406010  Melatonin 2.5 Mg Sublingual Orange Tablets  ...     Oregon   38   \n",
       "32406037                 Fresh Farmed Tilapia Fillet  ...  Tennessee   22   \n",
       "32406038                 Fresh Farmed Tilapia Fillet  ...  Tennessee   22   \n",
       "32406039                 Fresh Farmed Tilapia Fillet  ...  Tennessee   22   \n",
       "32406040                 Fresh Farmed Tilapia Fillet  ...  Tennessee   22   \n",
       "\n",
       "          date_joined n_dependants familial_status income _merge region  \\\n",
       "1510         3/2/2017            2         married  99219   both  South   \n",
       "1511         3/2/2017            2         married  99219   both  South   \n",
       "1512         3/2/2017            2         married  99219   both  South   \n",
       "1513         3/2/2017            2         married  99219   both  South   \n",
       "1514         3/2/2017            2         married  99219   both  South   \n",
       "...               ...          ...             ...    ...    ...    ...   \n",
       "32406010    8/17/2018            1         married  41766   both   West   \n",
       "32406037    9/12/2017            3         married  46151   both  South   \n",
       "32406038    9/12/2017            3         married  46151   both  South   \n",
       "32406039    9/12/2017            3         married  46151   both  South   \n",
       "32406040    9/12/2017            3         married  46151   both  South   \n",
       "\n",
       "         max_order          activity_flag  \n",
       "1510             3  Low-activity customer  \n",
       "1511             3  Low-activity customer  \n",
       "1512             3  Low-activity customer  \n",
       "1513             3  Low-activity customer  \n",
       "1514             3  Low-activity customer  \n",
       "...            ...                    ...  \n",
       "32406010         3  Low-activity customer  \n",
       "32406037         4  Low-activity customer  \n",
       "32406038         4  Low-activity customer  \n",
       "32406039         4  Low-activity customer  \n",
       "32406040         4  Low-activity customer  \n",
       "\n",
       "[1440355 rows x 31 columns]"
      ]
     },
     "execution_count": 25,
     "metadata": {},
     "output_type": "execute_result"
    }
   ],
   "source": [
    "low_activity_customers"
   ]
  },
  {
   "cell_type": "code",
   "execution_count": 26,
   "id": "40f4f18f",
   "metadata": {},
   "outputs": [
    {
     "data": {
      "text/plain": [
       "(1440355, 31)"
      ]
     },
     "execution_count": 26,
     "metadata": {},
     "output_type": "execute_result"
    }
   ],
   "source": [
    "low_activity_customers.shape"
   ]
  },
  {
   "cell_type": "code",
   "execution_count": 27,
   "id": "e1ff8d95",
   "metadata": {},
   "outputs": [],
   "source": [
    "low_activity_customers.to_csv(os.path.join(path, '02 Data','Prepared Data', 'low_activity_customers.csv'))"
   ]
  },
  {
   "cell_type": "code",
   "execution_count": 28,
   "id": "34e3ca74",
   "metadata": {},
   "outputs": [],
   "source": [
    "# Excluding the Low-activity customers from the data\n",
    "\n",
    "orders_products_all = orders_products_all[orders_products_all['activity_flag'] != 'Low-activity customer']"
   ]
  },
  {
   "cell_type": "code",
   "execution_count": 29,
   "id": "5dcefb6d",
   "metadata": {},
   "outputs": [
    {
     "data": {
      "text/plain": [
       "(30965686, 31)"
      ]
     },
     "execution_count": 29,
     "metadata": {},
     "output_type": "execute_result"
    }
   ],
   "source": [
    "orders_products_all.shape"
   ]
  },
  {
   "cell_type": "markdown",
   "id": "46f147d9",
   "metadata": {},
   "source": [
    "## Profiling variable based on age, income, certain goods in the “department_id” column"
   ]
  },
  {
   "cell_type": "code",
   "execution_count": 30,
   "id": "651f7d1a",
   "metadata": {},
   "outputs": [],
   "source": [
    "# Profiling customers based on age\n",
    "\n",
    "orders_products_all.loc[(orders_products_all['Age'] >= 18) & (orders_products_all['Age'] < 25), 'age_range'] = 'Young adult 18-24'"
   ]
  },
  {
   "cell_type": "code",
   "execution_count": 31,
   "id": "039f8faa",
   "metadata": {},
   "outputs": [],
   "source": [
    "orders_products_all.loc[(orders_products_all['Age'] >= 25) & (orders_products_all['Age'] < 35), 'age_range'] = 'Young adult 25-34'"
   ]
  },
  {
   "cell_type": "code",
   "execution_count": 32,
   "id": "49bb2b9e",
   "metadata": {},
   "outputs": [],
   "source": [
    "orders_products_all.loc[(orders_products_all['Age'] >= 35) & (orders_products_all['Age'] < 45), 'age_range'] = 'Adult 35-44'"
   ]
  },
  {
   "cell_type": "code",
   "execution_count": 33,
   "id": "3c515cd3",
   "metadata": {},
   "outputs": [],
   "source": [
    "orders_products_all.loc[(orders_products_all['Age'] >= 45) & (orders_products_all['Age'] < 55), 'age_range'] = 'Adult 45-54'"
   ]
  },
  {
   "cell_type": "code",
   "execution_count": 34,
   "id": "50f75c6f",
   "metadata": {},
   "outputs": [],
   "source": [
    "orders_products_all.loc[(orders_products_all['Age'] >= 55) & (orders_products_all['Age'] < 65), 'age_range'] = 'Adult 55-64'"
   ]
  },
  {
   "cell_type": "code",
   "execution_count": 35,
   "id": "fe1401d2",
   "metadata": {},
   "outputs": [],
   "source": [
    "orders_products_all.loc[(orders_products_all['Age'] >= 65), 'age_range'] = 'Senior 65+'"
   ]
  },
  {
   "cell_type": "code",
   "execution_count": 36,
   "id": "cab2852c",
   "metadata": {
    "scrolled": true
   },
   "outputs": [],
   "source": [
    "# Profiling customers based on income\n",
    "\n",
    "orders_products_all.loc[(orders_products_all['income'] >= 25000) & (orders_products_all['income'] < 80000), 'income_range'] = 'Low-income'"
   ]
  },
  {
   "cell_type": "code",
   "execution_count": 37,
   "id": "e83a4ce4",
   "metadata": {},
   "outputs": [],
   "source": [
    "orders_products_all.loc[(orders_products_all['income'] >= 80000) & (orders_products_all['income'] < 150000), 'income_range'] = 'Mid-income'"
   ]
  },
  {
   "cell_type": "code",
   "execution_count": 38,
   "id": "6f7e4e12",
   "metadata": {},
   "outputs": [],
   "source": [
    "orders_products_all.loc[(orders_products_all['income'] >= 150000) & (orders_products_all['income'] < 200000), 'income_range'] = 'High-income'"
   ]
  },
  {
   "cell_type": "code",
   "execution_count": 39,
   "id": "be3b85f5",
   "metadata": {},
   "outputs": [],
   "source": [
    "orders_products_all.loc[(orders_products_all['income'] >= 200000) & (orders_products_all['income'] < 400000), 'income_range'] = 'Very-high-income'"
   ]
  },
  {
   "cell_type": "code",
   "execution_count": 40,
   "id": "0dc19d5d",
   "metadata": {},
   "outputs": [],
   "source": [
    "orders_products_all.loc[orders_products_all['income'] >= 400000, 'income_range'] = 'Ultra-high-income'"
   ]
  },
  {
   "cell_type": "code",
   "execution_count": 41,
   "id": "dd97d5c7",
   "metadata": {},
   "outputs": [],
   "source": [
    "# Profiling customers based on number of dependants\n",
    "\n",
    "orders_products_all.loc[(orders_products_all['n_dependants'] == 0), 'dependants_flag'] = 'No dependants'"
   ]
  },
  {
   "cell_type": "code",
   "execution_count": 42,
   "id": "d3926f9d",
   "metadata": {},
   "outputs": [],
   "source": [
    "orders_products_all.loc[(orders_products_all['n_dependants'] >= 1), 'dependants_flag'] = 'Has dependants'"
   ]
  },
  {
   "cell_type": "code",
   "execution_count": 43,
   "id": "2db04352",
   "metadata": {},
   "outputs": [],
   "source": [
    "# Profiling customers based on orders_day_of_week\n",
    "\n",
    "orders_products_all['mode_day'] = orders_products_all.groupby(['user_id'])['orders_day_of_week'].transform(lambda x: x.value_counts().idxmax())"
   ]
  },
  {
   "cell_type": "code",
   "execution_count": 44,
   "id": "be8dc673",
   "metadata": {},
   "outputs": [],
   "source": [
    "orders_products_all.loc[(orders_products_all['mode_day'] == 0) | (orders_products_all['mode_day'] == 1), 'most_common_order_day'] = 'Weekend-Customer'"
   ]
  },
  {
   "cell_type": "code",
   "execution_count": 45,
   "id": "72a34add",
   "metadata": {},
   "outputs": [],
   "source": [
    "orders_products_all.loc[(orders_products_all['mode_day'] >= 2) & (orders_products_all['mode_day'] <= 6), 'most_common_order_day'] = 'Workday-Customer'"
   ]
  },
  {
   "cell_type": "code",
   "execution_count": 46,
   "id": "75ba5f79",
   "metadata": {},
   "outputs": [],
   "source": [
    "# Profiling customers based on hour_of_day\n",
    "\n",
    "orders_products_all['mode_hour'] = orders_products_all.groupby(['user_id'])['order_hour_of_day'].transform(lambda x: x.value_counts().idxmax())"
   ]
  },
  {
   "cell_type": "code",
   "execution_count": 47,
   "id": "0a0bcca1",
   "metadata": {},
   "outputs": [],
   "source": [
    "orders_products_all.loc[(orders_products_all['mode_day'] == 8) | (orders_products_all['mode_hour'] == 18), 'most_common_order_hour'] = 'Working-hours customer'"
   ]
  },
  {
   "cell_type": "code",
   "execution_count": 48,
   "id": "73d2cc92",
   "metadata": {},
   "outputs": [],
   "source": [
    "orders_products_all.loc[(orders_products_all['mode_day'] == 19) | (orders_products_all['mode_hour'] == 7), 'most_common_order_hour'] = 'Free-time-hours customer'"
   ]
  },
  {
   "cell_type": "markdown",
   "id": "2fb85e62",
   "metadata": {},
   "source": [
    "## Visualization to show the distribution of profiles"
   ]
  },
  {
   "cell_type": "code",
   "execution_count": 49,
   "id": "f2524b07",
   "metadata": {},
   "outputs": [
    {
     "data": {
      "text/plain": [
       "Text(0.5, 0, 'Range of Age')"
      ]
     },
     "execution_count": 49,
     "metadata": {},
     "output_type": "execute_result"
    },
    {
     "data": {
      "image/png": "[encoded data removed]",
      "text/plain": [
       "<Figure size 640x480 with 1 Axes>"
      ]
     },
     "metadata": {},
     "output_type": "display_data"
    }
   ],
   "source": [
    "# customers based on age\n",
    "\n",
    "bars_customer_by_age = orders_products_all['age_range'].value_counts().plot.bar(color = ['#006d77', '#83c5be', '#edf6f9', '#ffddd2', '#e29578'])\n",
    "plt.title('Customers Range of Age', fontweight = 'bold')\n",
    "plt.xlabel(\"Range of Age\")"
   ]
  },
  {
   "cell_type": "code",
   "execution_count": 50,
   "id": "722d9ae6",
   "metadata": {},
   "outputs": [
    {
     "data": {
      "text/plain": [
       "Text(0.5, 0, 'Range of Income')"
      ]
     },
     "execution_count": 50,
     "metadata": {},
     "output_type": "execute_result"
    },
    {
     "data": {
      "image/png": "[encoded data removed]",
      "text/plain": [
       "<Figure size 640x480 with 1 Axes>"
      ]
     },
     "metadata": {},
     "output_type": "display_data"
    }
   ],
   "source": [
    "# Customers based on income\n",
    "\n",
    "bars_customer_by_income = orders_products_all['income_range'].value_counts().plot.bar(color = ['#006d77', '#83c5be', '#edf6f9', '#ffddd2', '#e29578'])\n",
    "plt.title('Customers by Income', fontweight = 'bold')\n",
    "plt.xlabel(\"Range of Income\")"
   ]
  },
  {
   "cell_type": "code",
   "execution_count": 51,
   "id": "279676c7",
   "metadata": {},
   "outputs": [
    {
     "data": {
      "text/plain": [
       "Text(0.5, 0, 'Number of Dependants')"
      ]
     },
     "execution_count": 51,
     "metadata": {},
     "output_type": "execute_result"
    },
    {
     "data": {
      "image/png": "[encoded data removed]",
      "text/plain": [
       "<Figure size 640x480 with 1 Axes>"
      ]
     },
     "metadata": {},
     "output_type": "display_data"
    }
   ],
   "source": [
    "# Customers by their dependants\n",
    "\n",
    "bars_customer_by_dependants = orders_products_all['dependants_flag'].value_counts().plot.bar(color = ['#006d77', '#e29578'])\n",
    "plt.title('Customers by their Dependants', fontweight = 'bold')\n",
    "plt.xlabel(\"Number of Dependants\")"
   ]
  },
  {
   "cell_type": "code",
   "execution_count": 52,
   "id": "a81537be",
   "metadata": {},
   "outputs": [
    {
     "data": {
      "text/plain": [
       "Text(0.5, 0, 'Day of the Week')"
      ]
     },
     "execution_count": 52,
     "metadata": {},
     "output_type": "execute_result"
    },
    {
     "data": {
      "image/png": "[encoded data removed]",
      "text/plain": [
       "<Figure size 640x480 with 1 Axes>"
      ]
     },
     "metadata": {},
     "output_type": "display_data"
    }
   ],
   "source": [
    "# Customers by the most common day of orders\n",
    "\n",
    "bars_customer_by_day = orders_products_all['most_common_order_day'].value_counts().plot.bar(color = ['#006d77', '#e29578'])\n",
    "plt.title('Customers by the most common day of orders', fontweight = 'bold')\n",
    "plt.xlabel(\"Day of the Week\")"
   ]
  },
  {
   "cell_type": "code",
   "execution_count": 53,
   "id": "b4fd43cf",
   "metadata": {},
   "outputs": [
    {
     "data": {
      "text/plain": [
       "Text(0.5, 0, 'Hour of the Day')"
      ]
     },
     "execution_count": 53,
     "metadata": {},
     "output_type": "execute_result"
    },
    {
     "data": {
      "image/png": "[encoded data removed]",
      "text/plain": [
       "<Figure size 640x480 with 1 Axes>"
      ]
     },
     "metadata": {},
     "output_type": "display_data"
    }
   ],
   "source": [
    "# Customers by the most common hour of orders\n",
    "\n",
    "bars_customer_by_hour = orders_products_all['most_common_order_hour'].value_counts().plot.bar(color = ['#006d77', '#e29578'])\n",
    "plt.title('Customers by the most common hour of orders', fontweight = 'bold')\n",
    "plt.xlabel(\"Hour of the Day\")"
   ]
  },
  {
   "cell_type": "markdown",
   "id": "66ccfb2e",
   "metadata": {},
   "source": [
    "## Aggregate the max, mean, and min variables on a customer-profile level for usage frequency and expenditure"
   ]
  },
  {
   "cell_type": "code",
   "execution_count": 54,
   "id": "fd7b453f",
   "metadata": {},
   "outputs": [],
   "source": [
    "#Frequency\n",
    "\n",
    "orders_products_all['regularity'] = orders_products_all.groupby(['user_id'])['days_since_prior_order'].transform(np.median)"
   ]
  },
  {
   "cell_type": "code",
   "execution_count": 55,
   "id": "2eaac718",
   "metadata": {},
   "outputs": [
    {
     "data": {
      "text/html": [
       "<div>\n",
       "<style scoped>\n",
       "    .dataframe tbody tr th:only-of-type {\n",
       "        vertical-align: middle;\n",
       "    }\n",
       "\n",
       "    .dataframe tbody tr th {\n",
       "        vertical-align: top;\n",
       "    }\n",
       "\n",
       "    .dataframe thead tr th {\n",
       "        text-align: left;\n",
       "    }\n",
       "\n",
       "    .dataframe thead tr:last-of-type th {\n",
       "        text-align: right;\n",
       "    }\n",
       "</style>\n",
       "<table border=\"1\" class=\"dataframe\">\n",
       "  <thead>\n",
       "    <tr>\n",
       "      <th></th>\n",
       "      <th colspan=\"3\" halign=\"left\">regularity</th>\n",
       "    </tr>\n",
       "    <tr>\n",
       "      <th></th>\n",
       "      <th>mean</th>\n",
       "      <th>min</th>\n",
       "      <th>max</th>\n",
       "    </tr>\n",
       "    <tr>\n",
       "      <th>income_range</th>\n",
       "      <th></th>\n",
       "      <th></th>\n",
       "      <th></th>\n",
       "    </tr>\n",
       "  </thead>\n",
       "  <tbody>\n",
       "    <tr>\n",
       "      <th>High-income</th>\n",
       "      <td>9.842675</td>\n",
       "      <td>0.0</td>\n",
       "      <td>30.0</td>\n",
       "    </tr>\n",
       "    <tr>\n",
       "      <th>Low-income</th>\n",
       "      <td>10.078113</td>\n",
       "      <td>0.0</td>\n",
       "      <td>30.0</td>\n",
       "    </tr>\n",
       "    <tr>\n",
       "      <th>Mid-income</th>\n",
       "      <td>9.915205</td>\n",
       "      <td>0.0</td>\n",
       "      <td>30.0</td>\n",
       "    </tr>\n",
       "    <tr>\n",
       "      <th>Ultra-high-income</th>\n",
       "      <td>9.251894</td>\n",
       "      <td>1.0</td>\n",
       "      <td>30.0</td>\n",
       "    </tr>\n",
       "    <tr>\n",
       "      <th>Very-high-income</th>\n",
       "      <td>8.980342</td>\n",
       "      <td>1.0</td>\n",
       "      <td>30.0</td>\n",
       "    </tr>\n",
       "  </tbody>\n",
       "</table>\n",
       "</div>"
      ],
      "text/plain": [
       "                  regularity           \n",
       "                        mean  min   max\n",
       "income_range                           \n",
       "High-income         9.842675  0.0  30.0\n",
       "Low-income         10.078113  0.0  30.0\n",
       "Mid-income          9.915205  0.0  30.0\n",
       "Ultra-high-income   9.251894  1.0  30.0\n",
       "Very-high-income    8.980342  1.0  30.0"
      ]
     },
     "execution_count": 55,
     "metadata": {},
     "output_type": "execute_result"
    }
   ],
   "source": [
    "orders_products_all.groupby('income_range').agg({'regularity': ['mean', 'min', 'max']})"
   ]
  },
  {
   "cell_type": "code",
   "execution_count": 56,
   "id": "27a385a1",
   "metadata": {},
   "outputs": [],
   "source": [
    "# Expenditure\n",
    "\n",
    "orders_products_all['average_spending'] = orders_products_all.groupby(['user_id'])['prices'].transform(np.mean)"
   ]
  },
  {
   "cell_type": "code",
   "execution_count": 57,
   "id": "26eb7955",
   "metadata": {},
   "outputs": [
    {
     "data": {
      "text/html": [
       "<div>\n",
       "<style scoped>\n",
       "    .dataframe tbody tr th:only-of-type {\n",
       "        vertical-align: middle;\n",
       "    }\n",
       "\n",
       "    .dataframe tbody tr th {\n",
       "        vertical-align: top;\n",
       "    }\n",
       "\n",
       "    .dataframe thead tr th {\n",
       "        text-align: left;\n",
       "    }\n",
       "\n",
       "    .dataframe thead tr:last-of-type th {\n",
       "        text-align: right;\n",
       "    }\n",
       "</style>\n",
       "<table border=\"1\" class=\"dataframe\">\n",
       "  <thead>\n",
       "    <tr>\n",
       "      <th></th>\n",
       "      <th colspan=\"3\" halign=\"left\">average_spending</th>\n",
       "    </tr>\n",
       "    <tr>\n",
       "      <th></th>\n",
       "      <th>mean</th>\n",
       "      <th>min</th>\n",
       "      <th>max</th>\n",
       "    </tr>\n",
       "    <tr>\n",
       "      <th>income_range</th>\n",
       "      <th></th>\n",
       "      <th></th>\n",
       "      <th></th>\n",
       "    </tr>\n",
       "  </thead>\n",
       "  <tbody>\n",
       "    <tr>\n",
       "      <th>High-income</th>\n",
       "      <td>7.951982</td>\n",
       "      <td>4.433333</td>\n",
       "      <td>20.114286</td>\n",
       "    </tr>\n",
       "    <tr>\n",
       "      <th>Low-income</th>\n",
       "      <td>7.492054</td>\n",
       "      <td>1.000000</td>\n",
       "      <td>15.000000</td>\n",
       "    </tr>\n",
       "    <tr>\n",
       "      <th>Mid-income</th>\n",
       "      <td>7.958287</td>\n",
       "      <td>4.656522</td>\n",
       "      <td>19.400000</td>\n",
       "    </tr>\n",
       "    <tr>\n",
       "      <th>Ultra-high-income</th>\n",
       "      <td>7.737645</td>\n",
       "      <td>6.270930</td>\n",
       "      <td>10.321429</td>\n",
       "    </tr>\n",
       "    <tr>\n",
       "      <th>Very-high-income</th>\n",
       "      <td>7.786541</td>\n",
       "      <td>4.370588</td>\n",
       "      <td>10.548876</td>\n",
       "    </tr>\n",
       "  </tbody>\n",
       "</table>\n",
       "</div>"
      ],
      "text/plain": [
       "                  average_spending                     \n",
       "                              mean       min        max\n",
       "income_range                                           \n",
       "High-income               7.951982  4.433333  20.114286\n",
       "Low-income                7.492054  1.000000  15.000000\n",
       "Mid-income                7.958287  4.656522  19.400000\n",
       "Ultra-high-income         7.737645  6.270930  10.321429\n",
       "Very-high-income          7.786541  4.370588  10.548876"
      ]
     },
     "execution_count": 57,
     "metadata": {},
     "output_type": "execute_result"
    }
   ],
   "source": [
    "orders_products_all.groupby('income_range').agg({'average_spending': ['mean', 'min', 'max']})"
   ]
  },
  {
   "cell_type": "markdown",
   "id": "52fdfb0a",
   "metadata": {},
   "source": [
    "## Compare customer profiles with regions and departments"
   ]
  },
  {
   "cell_type": "code",
   "execution_count": 58,
   "id": "bc6ade26",
   "metadata": {},
   "outputs": [],
   "source": [
    "departments = pd.read_csv(os.path.join(path, '02 Data', 'Prepared Data', 'departments_wrangled.csv'))"
   ]
  },
  {
   "cell_type": "code",
   "execution_count": 59,
   "id": "b95f7bed",
   "metadata": {},
   "outputs": [
    {
     "data": {
      "text/html": [
       "<div>\n",
       "<style scoped>\n",
       "    .dataframe tbody tr th:only-of-type {\n",
       "        vertical-align: middle;\n",
       "    }\n",
       "\n",
       "    .dataframe tbody tr th {\n",
       "        vertical-align: top;\n",
       "    }\n",
       "\n",
       "    .dataframe thead th {\n",
       "        text-align: right;\n",
       "    }\n",
       "</style>\n",
       "<table border=\"1\" class=\"dataframe\">\n",
       "  <thead>\n",
       "    <tr style=\"text-align: right;\">\n",
       "      <th></th>\n",
       "      <th>Unnamed: 0</th>\n",
       "      <th>department</th>\n",
       "    </tr>\n",
       "  </thead>\n",
       "  <tbody>\n",
       "    <tr>\n",
       "      <th>0</th>\n",
       "      <td>1</td>\n",
       "      <td>frozen</td>\n",
       "    </tr>\n",
       "    <tr>\n",
       "      <th>1</th>\n",
       "      <td>2</td>\n",
       "      <td>other</td>\n",
       "    </tr>\n",
       "    <tr>\n",
       "      <th>2</th>\n",
       "      <td>3</td>\n",
       "      <td>bakery</td>\n",
       "    </tr>\n",
       "    <tr>\n",
       "      <th>3</th>\n",
       "      <td>4</td>\n",
       "      <td>produce</td>\n",
       "    </tr>\n",
       "    <tr>\n",
       "      <th>4</th>\n",
       "      <td>5</td>\n",
       "      <td>alcohol</td>\n",
       "    </tr>\n",
       "    <tr>\n",
       "      <th>5</th>\n",
       "      <td>6</td>\n",
       "      <td>international</td>\n",
       "    </tr>\n",
       "    <tr>\n",
       "      <th>6</th>\n",
       "      <td>7</td>\n",
       "      <td>beverages</td>\n",
       "    </tr>\n",
       "    <tr>\n",
       "      <th>7</th>\n",
       "      <td>8</td>\n",
       "      <td>pets</td>\n",
       "    </tr>\n",
       "    <tr>\n",
       "      <th>8</th>\n",
       "      <td>9</td>\n",
       "      <td>dry goods pasta</td>\n",
       "    </tr>\n",
       "    <tr>\n",
       "      <th>9</th>\n",
       "      <td>10</td>\n",
       "      <td>bulk</td>\n",
       "    </tr>\n",
       "    <tr>\n",
       "      <th>10</th>\n",
       "      <td>11</td>\n",
       "      <td>personal care</td>\n",
       "    </tr>\n",
       "    <tr>\n",
       "      <th>11</th>\n",
       "      <td>12</td>\n",
       "      <td>meat seafood</td>\n",
       "    </tr>\n",
       "    <tr>\n",
       "      <th>12</th>\n",
       "      <td>13</td>\n",
       "      <td>pantry</td>\n",
       "    </tr>\n",
       "    <tr>\n",
       "      <th>13</th>\n",
       "      <td>14</td>\n",
       "      <td>breakfast</td>\n",
       "    </tr>\n",
       "    <tr>\n",
       "      <th>14</th>\n",
       "      <td>15</td>\n",
       "      <td>canned goods</td>\n",
       "    </tr>\n",
       "    <tr>\n",
       "      <th>15</th>\n",
       "      <td>16</td>\n",
       "      <td>dairy eggs</td>\n",
       "    </tr>\n",
       "    <tr>\n",
       "      <th>16</th>\n",
       "      <td>17</td>\n",
       "      <td>household</td>\n",
       "    </tr>\n",
       "    <tr>\n",
       "      <th>17</th>\n",
       "      <td>18</td>\n",
       "      <td>babies</td>\n",
       "    </tr>\n",
       "    <tr>\n",
       "      <th>18</th>\n",
       "      <td>19</td>\n",
       "      <td>snacks</td>\n",
       "    </tr>\n",
       "    <tr>\n",
       "      <th>19</th>\n",
       "      <td>20</td>\n",
       "      <td>deli</td>\n",
       "    </tr>\n",
       "    <tr>\n",
       "      <th>20</th>\n",
       "      <td>21</td>\n",
       "      <td>missing</td>\n",
       "    </tr>\n",
       "  </tbody>\n",
       "</table>\n",
       "</div>"
      ],
      "text/plain": [
       "    Unnamed: 0       department\n",
       "0            1           frozen\n",
       "1            2            other\n",
       "2            3           bakery\n",
       "3            4          produce\n",
       "4            5          alcohol\n",
       "5            6    international\n",
       "6            7        beverages\n",
       "7            8             pets\n",
       "8            9  dry goods pasta\n",
       "9           10             bulk\n",
       "10          11    personal care\n",
       "11          12     meat seafood\n",
       "12          13           pantry\n",
       "13          14        breakfast\n",
       "14          15     canned goods\n",
       "15          16       dairy eggs\n",
       "16          17        household\n",
       "17          18           babies\n",
       "18          19           snacks\n",
       "19          20             deli\n",
       "20          21          missing"
      ]
     },
     "execution_count": 59,
     "metadata": {},
     "output_type": "execute_result"
    }
   ],
   "source": [
    "departments"
   ]
  },
  {
   "cell_type": "code",
   "execution_count": 60,
   "id": "432dda95",
   "metadata": {},
   "outputs": [
    {
     "data": {
      "text/plain": [
       "Index(['order_id', 'user_id', 'order_number', 'orders_day_of_week',\n",
       "       'order_hour_of_day', 'days_since_prior_order', 'product_id',\n",
       "       'add_to_cart_order', 'reordered', 'product_name', 'aisle_id',\n",
       "       'department_id', 'prices', 'price_range_loc', 'busiest_day',\n",
       "       'busiest_days', 'busiest_period_of_day', 'loyalty_flag',\n",
       "       'spending_flag', 'frequency_flag', 'Gender', 'State', 'Age',\n",
       "       'date_joined', 'n_dependants', 'familial_status', 'income', '_merge',\n",
       "       'region', 'max_order', 'activity_flag', 'age_range', 'income_range',\n",
       "       'dependants_flag', 'mode_day', 'most_common_order_day', 'mode_hour',\n",
       "       'most_common_order_hour', 'regularity', 'average_spending'],\n",
       "      dtype='object')"
      ]
     },
     "execution_count": 60,
     "metadata": {},
     "output_type": "execute_result"
    }
   ],
   "source": [
    "orders_products_all.columns"
   ]
  },
  {
   "cell_type": "code",
   "execution_count": 61,
   "id": "d00d10b0",
   "metadata": {},
   "outputs": [],
   "source": [
    "# Map department id to department names\n",
    "\n",
    "department_mapping = {\n",
    "    1: 'frozen',\n",
    "    2: 'other',\n",
    "    3: 'bakery',\n",
    "    4: 'produce',\n",
    "    5: 'alcohol',\n",
    "    6: 'international',\n",
    "    7: 'beverages',\n",
    "    8: 'pets',\n",
    "    9: 'dry goods pasta',\n",
    "    10: 'bulk',\n",
    "    11: 'personal care',\n",
    "    12: 'meat seafood',\n",
    "    13: 'pantry',\n",
    "    14: 'breakfast',\n",
    "    15: 'canned goods',\n",
    "    16: 'dairy eggs',\n",
    "    17: 'household',\n",
    "    18: 'babies',\n",
    "    19: 'snacks',\n",
    "    20: 'deli',\n",
    "    21: 'missing'\n",
    "}"
   ]
  },
  {
   "cell_type": "code",
   "execution_count": 62,
   "id": "18754e87",
   "metadata": {},
   "outputs": [],
   "source": [
    "# Create a new column \"department\" based on the mapping\n",
    "\n",
    "orders_products_all['department'] = orders_products_all['department_id'].map(department_mapping)"
   ]
  },
  {
   "cell_type": "code",
   "execution_count": 63,
   "id": "4098dd38",
   "metadata": {},
   "outputs": [
    {
     "data": {
      "text/html": [
       "<div>\n",
       "<style scoped>\n",
       "    .dataframe tbody tr th:only-of-type {\n",
       "        vertical-align: middle;\n",
       "    }\n",
       "\n",
       "    .dataframe tbody tr th {\n",
       "        vertical-align: top;\n",
       "    }\n",
       "\n",
       "    .dataframe thead th {\n",
       "        text-align: right;\n",
       "    }\n",
       "</style>\n",
       "<table border=\"1\" class=\"dataframe\">\n",
       "  <thead>\n",
       "    <tr style=\"text-align: right;\">\n",
       "      <th></th>\n",
       "      <th>order_id</th>\n",
       "      <th>user_id</th>\n",
       "      <th>order_number</th>\n",
       "      <th>orders_day_of_week</th>\n",
       "      <th>order_hour_of_day</th>\n",
       "      <th>days_since_prior_order</th>\n",
       "      <th>product_id</th>\n",
       "      <th>add_to_cart_order</th>\n",
       "      <th>reordered</th>\n",
       "      <th>product_name</th>\n",
       "      <th>...</th>\n",
       "      <th>age_range</th>\n",
       "      <th>income_range</th>\n",
       "      <th>dependants_flag</th>\n",
       "      <th>mode_day</th>\n",
       "      <th>most_common_order_day</th>\n",
       "      <th>mode_hour</th>\n",
       "      <th>most_common_order_hour</th>\n",
       "      <th>regularity</th>\n",
       "      <th>average_spending</th>\n",
       "      <th>department</th>\n",
       "    </tr>\n",
       "  </thead>\n",
       "  <tbody>\n",
       "    <tr>\n",
       "      <th>0</th>\n",
       "      <td>2539329</td>\n",
       "      <td>1</td>\n",
       "      <td>1</td>\n",
       "      <td>2</td>\n",
       "      <td>8</td>\n",
       "      <td>NaN</td>\n",
       "      <td>196</td>\n",
       "      <td>1</td>\n",
       "      <td>0</td>\n",
       "      <td>Soda</td>\n",
       "      <td>...</td>\n",
       "      <td>Young adult 25-34</td>\n",
       "      <td>Low-income</td>\n",
       "      <td>Has dependants</td>\n",
       "      <td>4</td>\n",
       "      <td>Workday-Customer</td>\n",
       "      <td>7</td>\n",
       "      <td>Free-time-hours customer</td>\n",
       "      <td>20.5</td>\n",
       "      <td>6.367797</td>\n",
       "      <td>beverages</td>\n",
       "    </tr>\n",
       "    <tr>\n",
       "      <th>1</th>\n",
       "      <td>2398795</td>\n",
       "      <td>1</td>\n",
       "      <td>2</td>\n",
       "      <td>3</td>\n",
       "      <td>7</td>\n",
       "      <td>15.0</td>\n",
       "      <td>196</td>\n",
       "      <td>1</td>\n",
       "      <td>1</td>\n",
       "      <td>Soda</td>\n",
       "      <td>...</td>\n",
       "      <td>Young adult 25-34</td>\n",
       "      <td>Low-income</td>\n",
       "      <td>Has dependants</td>\n",
       "      <td>4</td>\n",
       "      <td>Workday-Customer</td>\n",
       "      <td>7</td>\n",
       "      <td>Free-time-hours customer</td>\n",
       "      <td>20.5</td>\n",
       "      <td>6.367797</td>\n",
       "      <td>beverages</td>\n",
       "    </tr>\n",
       "    <tr>\n",
       "      <th>2</th>\n",
       "      <td>473747</td>\n",
       "      <td>1</td>\n",
       "      <td>3</td>\n",
       "      <td>3</td>\n",
       "      <td>12</td>\n",
       "      <td>21.0</td>\n",
       "      <td>196</td>\n",
       "      <td>1</td>\n",
       "      <td>1</td>\n",
       "      <td>Soda</td>\n",
       "      <td>...</td>\n",
       "      <td>Young adult 25-34</td>\n",
       "      <td>Low-income</td>\n",
       "      <td>Has dependants</td>\n",
       "      <td>4</td>\n",
       "      <td>Workday-Customer</td>\n",
       "      <td>7</td>\n",
       "      <td>Free-time-hours customer</td>\n",
       "      <td>20.5</td>\n",
       "      <td>6.367797</td>\n",
       "      <td>beverages</td>\n",
       "    </tr>\n",
       "    <tr>\n",
       "      <th>3</th>\n",
       "      <td>2254736</td>\n",
       "      <td>1</td>\n",
       "      <td>4</td>\n",
       "      <td>4</td>\n",
       "      <td>7</td>\n",
       "      <td>29.0</td>\n",
       "      <td>196</td>\n",
       "      <td>1</td>\n",
       "      <td>1</td>\n",
       "      <td>Soda</td>\n",
       "      <td>...</td>\n",
       "      <td>Young adult 25-34</td>\n",
       "      <td>Low-income</td>\n",
       "      <td>Has dependants</td>\n",
       "      <td>4</td>\n",
       "      <td>Workday-Customer</td>\n",
       "      <td>7</td>\n",
       "      <td>Free-time-hours customer</td>\n",
       "      <td>20.5</td>\n",
       "      <td>6.367797</td>\n",
       "      <td>beverages</td>\n",
       "    </tr>\n",
       "    <tr>\n",
       "      <th>4</th>\n",
       "      <td>431534</td>\n",
       "      <td>1</td>\n",
       "      <td>5</td>\n",
       "      <td>4</td>\n",
       "      <td>15</td>\n",
       "      <td>28.0</td>\n",
       "      <td>196</td>\n",
       "      <td>1</td>\n",
       "      <td>1</td>\n",
       "      <td>Soda</td>\n",
       "      <td>...</td>\n",
       "      <td>Young adult 25-34</td>\n",
       "      <td>Low-income</td>\n",
       "      <td>Has dependants</td>\n",
       "      <td>4</td>\n",
       "      <td>Workday-Customer</td>\n",
       "      <td>7</td>\n",
       "      <td>Free-time-hours customer</td>\n",
       "      <td>20.5</td>\n",
       "      <td>6.367797</td>\n",
       "      <td>beverages</td>\n",
       "    </tr>\n",
       "  </tbody>\n",
       "</table>\n",
       "<p>5 rows × 41 columns</p>\n",
       "</div>"
      ],
      "text/plain": [
       "   order_id user_id  order_number  orders_day_of_week  order_hour_of_day  \\\n",
       "0   2539329       1             1                   2                  8   \n",
       "1   2398795       1             2                   3                  7   \n",
       "2    473747       1             3                   3                 12   \n",
       "3   2254736       1             4                   4                  7   \n",
       "4    431534       1             5                   4                 15   \n",
       "\n",
       "   days_since_prior_order  product_id  add_to_cart_order  reordered  \\\n",
       "0                     NaN         196                  1          0   \n",
       "1                    15.0         196                  1          1   \n",
       "2                    21.0         196                  1          1   \n",
       "3                    29.0         196                  1          1   \n",
       "4                    28.0         196                  1          1   \n",
       "\n",
       "  product_name  ...          age_range  income_range  dependants_flag  \\\n",
       "0         Soda  ...  Young adult 25-34    Low-income   Has dependants   \n",
       "1         Soda  ...  Young adult 25-34    Low-income   Has dependants   \n",
       "2         Soda  ...  Young adult 25-34    Low-income   Has dependants   \n",
       "3         Soda  ...  Young adult 25-34    Low-income   Has dependants   \n",
       "4         Soda  ...  Young adult 25-34    Low-income   Has dependants   \n",
       "\n",
       "  mode_day most_common_order_day mode_hour    most_common_order_hour  \\\n",
       "0        4      Workday-Customer         7  Free-time-hours customer   \n",
       "1        4      Workday-Customer         7  Free-time-hours customer   \n",
       "2        4      Workday-Customer         7  Free-time-hours customer   \n",
       "3        4      Workday-Customer         7  Free-time-hours customer   \n",
       "4        4      Workday-Customer         7  Free-time-hours customer   \n",
       "\n",
       "  regularity average_spending department  \n",
       "0       20.5         6.367797  beverages  \n",
       "1       20.5         6.367797  beverages  \n",
       "2       20.5         6.367797  beverages  \n",
       "3       20.5         6.367797  beverages  \n",
       "4       20.5         6.367797  beverages  \n",
       "\n",
       "[5 rows x 41 columns]"
      ]
     },
     "execution_count": 63,
     "metadata": {},
     "output_type": "execute_result"
    }
   ],
   "source": [
    "orders_products_all.head()"
   ]
  },
  {
   "cell_type": "code",
   "execution_count": 64,
   "id": "947e8cc2",
   "metadata": {},
   "outputs": [],
   "source": [
    "# Crossing the the variables 'region' and 'age_range'\n",
    "\n",
    "regional_age_distribution = orders_products_all[['region', 'age_range']].value_counts()"
   ]
  },
  {
   "cell_type": "code",
   "execution_count": 65,
   "id": "a65e1365",
   "metadata": {},
   "outputs": [],
   "source": [
    "# Converting the Series into a DataFrame for further analyses\n",
    "\n",
    "regional_age_distribution_df = regional_age_distribution.reset_index(name='count')"
   ]
  },
  {
   "cell_type": "code",
   "execution_count": 66,
   "id": "08c498d0",
   "metadata": {},
   "outputs": [
    {
     "data": {
      "text/html": [
       "<div>\n",
       "<style scoped>\n",
       "    .dataframe tbody tr th:only-of-type {\n",
       "        vertical-align: middle;\n",
       "    }\n",
       "\n",
       "    .dataframe tbody tr th {\n",
       "        vertical-align: top;\n",
       "    }\n",
       "\n",
       "    .dataframe thead th {\n",
       "        text-align: right;\n",
       "    }\n",
       "</style>\n",
       "<table border=\"1\" class=\"dataframe\">\n",
       "  <thead>\n",
       "    <tr style=\"text-align: right;\">\n",
       "      <th></th>\n",
       "      <th>region</th>\n",
       "      <th>age_range</th>\n",
       "      <th>count</th>\n",
       "    </tr>\n",
       "  </thead>\n",
       "  <tbody>\n",
       "    <tr>\n",
       "      <th>0</th>\n",
       "      <td>South</td>\n",
       "      <td>Senior 65+</td>\n",
       "      <td>2708539</td>\n",
       "    </tr>\n",
       "    <tr>\n",
       "      <th>1</th>\n",
       "      <td>West</td>\n",
       "      <td>Senior 65+</td>\n",
       "      <td>2098291</td>\n",
       "    </tr>\n",
       "    <tr>\n",
       "      <th>2</th>\n",
       "      <td>Midwest</td>\n",
       "      <td>Senior 65+</td>\n",
       "      <td>1904119</td>\n",
       "    </tr>\n",
       "    <tr>\n",
       "      <th>3</th>\n",
       "      <td>South</td>\n",
       "      <td>Adult 35-44</td>\n",
       "      <td>1639323</td>\n",
       "    </tr>\n",
       "    <tr>\n",
       "      <th>4</th>\n",
       "      <td>South</td>\n",
       "      <td>Adult 55-64</td>\n",
       "      <td>1607174</td>\n",
       "    </tr>\n",
       "    <tr>\n",
       "      <th>5</th>\n",
       "      <td>South</td>\n",
       "      <td>Young adult 25-34</td>\n",
       "      <td>1603383</td>\n",
       "    </tr>\n",
       "    <tr>\n",
       "      <th>6</th>\n",
       "      <td>South</td>\n",
       "      <td>Adult 45-54</td>\n",
       "      <td>1587929</td>\n",
       "    </tr>\n",
       "    <tr>\n",
       "      <th>7</th>\n",
       "      <td>Northeast</td>\n",
       "      <td>Senior 65+</td>\n",
       "      <td>1484857</td>\n",
       "    </tr>\n",
       "    <tr>\n",
       "      <th>8</th>\n",
       "      <td>West</td>\n",
       "      <td>Adult 45-54</td>\n",
       "      <td>1269261</td>\n",
       "    </tr>\n",
       "    <tr>\n",
       "      <th>9</th>\n",
       "      <td>West</td>\n",
       "      <td>Adult 55-64</td>\n",
       "      <td>1241824</td>\n",
       "    </tr>\n",
       "    <tr>\n",
       "      <th>10</th>\n",
       "      <td>West</td>\n",
       "      <td>Young adult 25-34</td>\n",
       "      <td>1238299</td>\n",
       "    </tr>\n",
       "    <tr>\n",
       "      <th>11</th>\n",
       "      <td>West</td>\n",
       "      <td>Adult 35-44</td>\n",
       "      <td>1224170</td>\n",
       "    </tr>\n",
       "    <tr>\n",
       "      <th>12</th>\n",
       "      <td>South</td>\n",
       "      <td>Young adult 18-24</td>\n",
       "      <td>1165183</td>\n",
       "    </tr>\n",
       "    <tr>\n",
       "      <th>13</th>\n",
       "      <td>Midwest</td>\n",
       "      <td>Adult 35-44</td>\n",
       "      <td>1159138</td>\n",
       "    </tr>\n",
       "    <tr>\n",
       "      <th>14</th>\n",
       "      <td>Midwest</td>\n",
       "      <td>Adult 45-54</td>\n",
       "      <td>1158197</td>\n",
       "    </tr>\n",
       "    <tr>\n",
       "      <th>15</th>\n",
       "      <td>Midwest</td>\n",
       "      <td>Adult 55-64</td>\n",
       "      <td>1128356</td>\n",
       "    </tr>\n",
       "    <tr>\n",
       "      <th>16</th>\n",
       "      <td>Midwest</td>\n",
       "      <td>Young adult 25-34</td>\n",
       "      <td>1120295</td>\n",
       "    </tr>\n",
       "    <tr>\n",
       "      <th>17</th>\n",
       "      <td>Northeast</td>\n",
       "      <td>Adult 45-54</td>\n",
       "      <td>872329</td>\n",
       "    </tr>\n",
       "    <tr>\n",
       "      <th>18</th>\n",
       "      <td>Northeast</td>\n",
       "      <td>Young adult 25-34</td>\n",
       "      <td>865302</td>\n",
       "    </tr>\n",
       "    <tr>\n",
       "      <th>19</th>\n",
       "      <td>West</td>\n",
       "      <td>Young adult 18-24</td>\n",
       "      <td>855668</td>\n",
       "    </tr>\n",
       "    <tr>\n",
       "      <th>20</th>\n",
       "      <td>Northeast</td>\n",
       "      <td>Adult 55-64</td>\n",
       "      <td>825335</td>\n",
       "    </tr>\n",
       "    <tr>\n",
       "      <th>21</th>\n",
       "      <td>Northeast</td>\n",
       "      <td>Adult 35-44</td>\n",
       "      <td>814247</td>\n",
       "    </tr>\n",
       "    <tr>\n",
       "      <th>22</th>\n",
       "      <td>Midwest</td>\n",
       "      <td>Young adult 18-24</td>\n",
       "      <td>791658</td>\n",
       "    </tr>\n",
       "    <tr>\n",
       "      <th>23</th>\n",
       "      <td>Northeast</td>\n",
       "      <td>Young adult 18-24</td>\n",
       "      <td>602809</td>\n",
       "    </tr>\n",
       "  </tbody>\n",
       "</table>\n",
       "</div>"
      ],
      "text/plain": [
       "       region          age_range    count\n",
       "0       South         Senior 65+  2708539\n",
       "1        West         Senior 65+  2098291\n",
       "2     Midwest         Senior 65+  1904119\n",
       "3       South        Adult 35-44  1639323\n",
       "4       South        Adult 55-64  1607174\n",
       "5       South  Young adult 25-34  1603383\n",
       "6       South        Adult 45-54  1587929\n",
       "7   Northeast         Senior 65+  1484857\n",
       "8        West        Adult 45-54  1269261\n",
       "9        West        Adult 55-64  1241824\n",
       "10       West  Young adult 25-34  1238299\n",
       "11       West        Adult 35-44  1224170\n",
       "12      South  Young adult 18-24  1165183\n",
       "13    Midwest        Adult 35-44  1159138\n",
       "14    Midwest        Adult 45-54  1158197\n",
       "15    Midwest        Adult 55-64  1128356\n",
       "16    Midwest  Young adult 25-34  1120295\n",
       "17  Northeast        Adult 45-54   872329\n",
       "18  Northeast  Young adult 25-34   865302\n",
       "19       West  Young adult 18-24   855668\n",
       "20  Northeast        Adult 55-64   825335\n",
       "21  Northeast        Adult 35-44   814247\n",
       "22    Midwest  Young adult 18-24   791658\n",
       "23  Northeast  Young adult 18-24   602809"
      ]
     },
     "execution_count": 66,
     "metadata": {},
     "output_type": "execute_result"
    }
   ],
   "source": [
    "regional_age_distribution_df"
   ]
  },
  {
   "cell_type": "code",
   "execution_count": 67,
   "id": "4f090777",
   "metadata": {},
   "outputs": [
    {
     "data": {
      "text/plain": [
       "Text(0, 0.5, 'Count')"
      ]
     },
     "execution_count": 67,
     "metadata": {},
     "output_type": "execute_result"
    },
    {
     "data": {
      "image/png": "[encoded data removed]",
      "text/plain": [
       "<Figure size 1200x600 with 1 Axes>"
      ]
     },
     "metadata": {},
     "output_type": "display_data"
    }
   ],
   "source": [
    "# Customers Range of Age by Region\n",
    "\n",
    "plt.figure(figsize=(12, 6))\n",
    "bar_regional_age_distribution = sns.barplot(data = regional_age_distribution_df, x='region', y='count', hue='age_range')\n",
    "plt.title('Customers Range of Age by Region', fontweight='bold')\n",
    "plt.xlabel('Region')\n",
    "plt.ylabel('Count')"
   ]
  },
  {
   "cell_type": "code",
   "execution_count": 68,
   "id": "f460c043",
   "metadata": {},
   "outputs": [],
   "source": [
    "# Crossing the variables 'region' and 'dependants_flag'\n",
    "\n",
    "regional_dependants_situation = orders_products_all[['region', 'dependants_flag']].value_counts()"
   ]
  },
  {
   "cell_type": "code",
   "execution_count": 69,
   "id": "e58952ae",
   "metadata": {},
   "outputs": [],
   "source": [
    "# Converting the Series into a DataFrame for further analyses\n",
    "\n",
    "regional_dependants_situation_df = regional_dependants_situation.reset_index(name='count')"
   ]
  },
  {
   "cell_type": "code",
   "execution_count": 70,
   "id": "31aed9e2",
   "metadata": {},
   "outputs": [
    {
     "data": {
      "text/html": [
       "<div>\n",
       "<style scoped>\n",
       "    .dataframe tbody tr th:only-of-type {\n",
       "        vertical-align: middle;\n",
       "    }\n",
       "\n",
       "    .dataframe tbody tr th {\n",
       "        vertical-align: top;\n",
       "    }\n",
       "\n",
       "    .dataframe thead th {\n",
       "        text-align: right;\n",
       "    }\n",
       "</style>\n",
       "<table border=\"1\" class=\"dataframe\">\n",
       "  <thead>\n",
       "    <tr style=\"text-align: right;\">\n",
       "      <th></th>\n",
       "      <th>region</th>\n",
       "      <th>dependants_flag</th>\n",
       "      <th>count</th>\n",
       "    </tr>\n",
       "  </thead>\n",
       "  <tbody>\n",
       "    <tr>\n",
       "      <th>0</th>\n",
       "      <td>South</td>\n",
       "      <td>Has dependants</td>\n",
       "      <td>7729495</td>\n",
       "    </tr>\n",
       "    <tr>\n",
       "      <th>1</th>\n",
       "      <td>West</td>\n",
       "      <td>Has dependants</td>\n",
       "      <td>5946973</td>\n",
       "    </tr>\n",
       "    <tr>\n",
       "      <th>2</th>\n",
       "      <td>Midwest</td>\n",
       "      <td>Has dependants</td>\n",
       "      <td>5438873</td>\n",
       "    </tr>\n",
       "    <tr>\n",
       "      <th>3</th>\n",
       "      <td>Northeast</td>\n",
       "      <td>Has dependants</td>\n",
       "      <td>4110329</td>\n",
       "    </tr>\n",
       "    <tr>\n",
       "      <th>4</th>\n",
       "      <td>South</td>\n",
       "      <td>No dependants</td>\n",
       "      <td>2582036</td>\n",
       "    </tr>\n",
       "    <tr>\n",
       "      <th>5</th>\n",
       "      <td>West</td>\n",
       "      <td>No dependants</td>\n",
       "      <td>1980540</td>\n",
       "    </tr>\n",
       "    <tr>\n",
       "      <th>6</th>\n",
       "      <td>Midwest</td>\n",
       "      <td>No dependants</td>\n",
       "      <td>1822890</td>\n",
       "    </tr>\n",
       "    <tr>\n",
       "      <th>7</th>\n",
       "      <td>Northeast</td>\n",
       "      <td>No dependants</td>\n",
       "      <td>1354550</td>\n",
       "    </tr>\n",
       "  </tbody>\n",
       "</table>\n",
       "</div>"
      ],
      "text/plain": [
       "      region dependants_flag    count\n",
       "0      South  Has dependants  7729495\n",
       "1       West  Has dependants  5946973\n",
       "2    Midwest  Has dependants  5438873\n",
       "3  Northeast  Has dependants  4110329\n",
       "4      South   No dependants  2582036\n",
       "5       West   No dependants  1980540\n",
       "6    Midwest   No dependants  1822890\n",
       "7  Northeast   No dependants  1354550"
      ]
     },
     "execution_count": 70,
     "metadata": {},
     "output_type": "execute_result"
    }
   ],
   "source": [
    "regional_dependants_situation_df"
   ]
  },
  {
   "cell_type": "code",
   "execution_count": 71,
   "id": "e153ea77",
   "metadata": {},
   "outputs": [
    {
     "data": {
      "text/plain": [
       "Text(0, 0.5, 'Count')"
      ]
     },
     "execution_count": 71,
     "metadata": {},
     "output_type": "execute_result"
    },
    {
     "data": {
      "image/png": "[encoded data removed]",
      "text/plain": [
       "<Figure size 1200x600 with 1 Axes>"
      ]
     },
     "metadata": {},
     "output_type": "display_data"
    }
   ],
   "source": [
    "# Customers by their Dependants by Region\n",
    "\n",
    "plt.figure(figsize=(12, 6))\n",
    "bar_regional_dependants_situation = sns.barplot(data = regional_dependants_situation_df, x='region', y='count', hue='dependants_flag')\n",
    "plt.title('Regional Distribution of Customers their Dependants', fontweight='bold')\n",
    "plt.xlabel('Region')\n",
    "plt.ylabel('Count')"
   ]
  },
  {
   "cell_type": "code",
   "execution_count": 72,
   "id": "445204a5",
   "metadata": {},
   "outputs": [],
   "source": [
    "# Crossing the the variables 'region' and 'department'\n",
    "\n",
    "regional_department_distribution = orders_products_all[['region', 'department']].value_counts()"
   ]
  },
  {
   "cell_type": "code",
   "execution_count": 73,
   "id": "326e15de",
   "metadata": {},
   "outputs": [],
   "source": [
    "# Series into a DataFrame for further analyses\n",
    "\n",
    "regional_department_distribution_df = regional_department_distribution.reset_index(name='count')"
   ]
  },
  {
   "cell_type": "code",
   "execution_count": 74,
   "id": "ebdb8e88",
   "metadata": {},
   "outputs": [],
   "source": [
    "# Sort the values first\n",
    "\n",
    "regional_department_distribution_df_sorted = regional_department_distribution_df.sort_values(by=['region', 'count'], ascending=[True, False])"
   ]
  },
  {
   "cell_type": "code",
   "execution_count": 75,
   "id": "1a798c1c",
   "metadata": {},
   "outputs": [],
   "source": [
    "# Group by 'region' and get the top 3 for each region\n",
    "\n",
    "top_departments_by_region = regional_department_distribution_df_sorted.groupby('region').head(3).reset_index(drop=True)"
   ]
  },
  {
   "cell_type": "code",
   "execution_count": 76,
   "id": "1aa16b66",
   "metadata": {},
   "outputs": [
    {
     "data": {
      "text/plain": [
       "Text(0, 0.5, 'Count')"
      ]
     },
     "execution_count": 76,
     "metadata": {},
     "output_type": "execute_result"
    },
    {
     "data": {
      "image/png": "[encoded data removed]",
      "text/plain": [
       "<Figure size 1200x600 with 1 Axes>"
      ]
     },
     "metadata": {},
     "output_type": "display_data"
    }
   ],
   "source": [
    "# Departments by Region\n",
    "\n",
    "plt.figure(figsize=(12, 6))\n",
    "bar_regional_department_distribution = sns.barplot(data = top_departments_by_region, x='region', y='count', hue='department', palette=[\"#771155\", \"#AA4488\", \"#CC99BB\"])\n",
    "plt.title('Departments by Region', fontweight='bold')\n",
    "plt.xlabel('Region')\n",
    "plt.ylabel('Count')"
   ]
  },
  {
   "cell_type": "code",
   "execution_count": 77,
   "id": "d16ac03a",
   "metadata": {},
   "outputs": [
    {
     "data": {
      "text/plain": [
       "Text(0.5, 0, 'Departments')"
      ]
     },
     "execution_count": 77,
     "metadata": {},
     "output_type": "execute_result"
    },
    {
     "data": {
      "image/png": "[encoded data removed]",
      "text/plain": [
       "<Figure size 1200x600 with 1 Axes>"
      ]
     },
     "metadata": {},
     "output_type": "display_data"
    }
   ],
   "source": [
    "# Departments by Orders\n",
    "\n",
    "plt.figure(figsize=(12, 6))\n",
    "bar_departments = orders_products_all['department'].value_counts().plot.bar(color = [\"#771155\", \"#AA4488\", \"#CC99BB\", \"#114477\", \"#4477AA\", \"#77AADD\", \"#117777\", \"#44AAAA\", \"#77CCCC\", \"#117744\", \"#44AA77\", \"#88CCAA\", \"#777711\", \"#AAAA44\", \"#DDDD77\", \"#774411\", \"#AA7744\", \"#DDAA77\", \"#771122\", \"#AA4455\", \"#DD7788\"])\n",
    "plt.title('Favorite Departments (by Orders)', fontweight = 'bold')\n",
    "plt.xlabel(\"Departments\")"
   ]
  },
  {
   "cell_type": "code",
   "execution_count": 78,
   "id": "18f46510",
   "metadata": {},
   "outputs": [
    {
     "data": {
      "image/png": "[encoded data removed]",
      "text/plain": [
       "<Figure size 1000x500 with 1 Axes>"
      ]
     },
     "metadata": {},
     "output_type": "display_data"
    }
   ],
   "source": [
    "# Line chart for expenditure by age groups through the week\n",
    "\n",
    "plt.figure(figsize = (10, 5))\n",
    "line_age_week = sns.lineplot(data = orders_products_all, \n",
    "             x = 'orders_day_of_week', \n",
    "             y = 'prices', \n",
    "             hue = 'age_range', \n",
    "             errorbar = None\n",
    "            )\n",
    "plt.title(\"Expenditure by Age Group through Day of Week\")\n",
    "plt.xlabel(\"Days of the Week\")\n",
    "plt.show()"
   ]
  },
  {
   "cell_type": "code",
   "execution_count": 79,
   "id": "14a6981b",
   "metadata": {},
   "outputs": [
    {
     "data": {
      "image/png": "[encoded data removed]",
      "text/plain": [
       "<Figure size 1000x500 with 1 Axes>"
      ]
     },
     "metadata": {},
     "output_type": "display_data"
    }
   ],
   "source": [
    "# Line chart for expenditure by regions through the week\n",
    "\n",
    "plt.figure(figsize = (10, 5))\n",
    "line_region_week = sns.lineplot(data = orders_products_all, \n",
    "             x = 'orders_day_of_week', \n",
    "             y = 'prices', \n",
    "             hue = 'region', \n",
    "             errorbar = None\n",
    "            )\n",
    "plt.title(\"Expenditure by Regions through Day of Week\")\n",
    "plt.xlabel(\"Days of the Week\")\n",
    "plt.show()"
   ]
  },
  {
   "cell_type": "code",
   "execution_count": 80,
   "id": "c8ee3bf1",
   "metadata": {},
   "outputs": [
    {
     "data": {
      "image/png": "[encoded data removed]",
      "text/plain": [
       "<Figure size 1000x500 with 1 Axes>"
      ]
     },
     "metadata": {},
     "output_type": "display_data"
    }
   ],
   "source": [
    "# Line chart for expenditure by region through the day\n",
    "\n",
    "plt.figure(figsize = (10, 5))\n",
    "line_region_hour = sns.lineplot(data = orders_products_all, \n",
    "             x = 'order_hour_of_day', \n",
    "             y = 'prices', \n",
    "             hue = 'region', \n",
    "             errorbar = None\n",
    "            )\n",
    "plt.title(\"Expenditure by Regions through the Day\")\n",
    "plt.xlabel(\"Hour of the Day\")\n",
    "plt.show()"
   ]
  },
  {
   "cell_type": "markdown",
   "id": "193993e3",
   "metadata": {},
   "source": [
    "## Export the visualizations"
   ]
  },
  {
   "cell_type": "code",
   "execution_count": 81,
   "id": "412cfb11",
   "metadata": {},
   "outputs": [],
   "source": [
    "line_region_hour.figure.savefig(os.path.join(path, '04 Analysis','Visualizations', 'line_region_hour.png'))"
   ]
  },
  {
   "cell_type": "code",
   "execution_count": 82,
   "id": "8a84cebb",
   "metadata": {},
   "outputs": [],
   "source": [
    "line_region_week.figure.savefig(os.path.join(path, '04 Analysis','Visualizations', 'line_region_week.png'))"
   ]
  },
  {
   "cell_type": "code",
   "execution_count": 83,
   "id": "41864470",
   "metadata": {},
   "outputs": [],
   "source": [
    "line_age_week.figure.savefig(os.path.join(path, '04 Analysis','Visualizations', 'line_age_week.png'))"
   ]
  },
  {
   "cell_type": "code",
   "execution_count": 84,
   "id": "5108d464",
   "metadata": {},
   "outputs": [],
   "source": [
    "bar_departments.figure.savefig(os.path.join(path, '04 Analysis','Visualizations', 'bar_departments.png'))"
   ]
  },
  {
   "cell_type": "code",
   "execution_count": 85,
   "id": "d999ba27",
   "metadata": {},
   "outputs": [],
   "source": [
    "bar_regional_department_distribution.figure.savefig(os.path.join(path, '04 Analysis','Visualizations', 'bar_regional_department_distribution.png'))"
   ]
  },
  {
   "cell_type": "code",
   "execution_count": 86,
   "id": "79ebb390",
   "metadata": {},
   "outputs": [],
   "source": [
    "bar_regional_dependants_situation.figure.savefig(os.path.join(path, '04 Analysis','Visualizations', 'bar_regional_dependants_situation.png'))"
   ]
  },
  {
   "cell_type": "code",
   "execution_count": 87,
   "id": "bec20ca0",
   "metadata": {},
   "outputs": [],
   "source": [
    "bar_regional_age_distribution.figure.savefig(os.path.join(path, '04 Analysis','Visualizations', 'bar_regional_department_distribution.png'))"
   ]
  },
  {
   "cell_type": "code",
   "execution_count": 88,
   "id": "479b63b6",
   "metadata": {},
   "outputs": [],
   "source": [
    "bars_customer_by_age.figure.savefig(os.path.join(path, '04 Analysis','Visualizations', 'bars_customer_by_age.png'))"
   ]
  },
  {
   "cell_type": "code",
   "execution_count": 89,
   "id": "3f753164",
   "metadata": {},
   "outputs": [],
   "source": [
    "bars_customer_by_income.figure.savefig(os.path.join(path, '04 Analysis','Visualizations', 'bars_customer_by_income.png'))"
   ]
  },
  {
   "cell_type": "code",
   "execution_count": 90,
   "id": "fe78fde9",
   "metadata": {},
   "outputs": [],
   "source": [
    "bars_customer_by_dependants.figure.savefig(os.path.join(path, '04 Analysis','Visualizations', 'bars_customer_by_dependants.png'))"
   ]
  },
  {
   "cell_type": "code",
   "execution_count": 91,
   "id": "4432b18a",
   "metadata": {},
   "outputs": [],
   "source": [
    "bars_customer_by_day.figure.savefig(os.path.join(path, '04 Analysis','Visualizations', 'bars_customer_by_day.png'))"
   ]
  },
  {
   "cell_type": "code",
   "execution_count": 92,
   "id": "01a63a70",
   "metadata": {},
   "outputs": [],
   "source": [
    "bars_customer_by_hour.figure.savefig(os.path.join(path, '04 Analysis','Visualizations', 'bars_customer_by_hour.png'))"
   ]
  },
  {
   "cell_type": "markdown",
   "id": "f82fc386",
   "metadata": {},
   "source": [
    "## Export the final data set"
   ]
  },
  {
   "cell_type": "code",
   "execution_count": 93,
   "id": "51068434",
   "metadata": {},
   "outputs": [],
   "source": [
    "orders_products_all.to_pickle(os.path.join(path, '02 Data','Prepared Data', 'final_orders_products_all.pkl'))"
   ]
  }
 ],
 "metadata": {
  "kernelspec": {
   "display_name": "Python 3 (ipykernel)",
   "language": "python",
   "name": "python3"
  },
  "language_info": {
   "codemirror_mode": {
    "name": "ipython",
    "version": 3
   },
   "file_extension": ".py",
   "mimetype": "text/x-python",
   "name": "python",
   "nbconvert_exporter": "python",
   "pygments_lexer": "ipython3",
   "version": "3.10.9"
  }
 },
 "nbformat": 4,
 "nbformat_minor": 5
}
